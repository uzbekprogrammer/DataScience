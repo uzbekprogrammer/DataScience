{
  "nbformat": 4,
  "nbformat_minor": 0,
  "metadata": {
    "colab": {
      "name": "faylAnvarNarz.ipynb",
      "private_outputs": true,
      "provenance": [],
      "authorship_tag": "ABX9TyPCldHxnKNLsMOXqqP+n20A",
      "include_colab_link": true
    },
    "kernelspec": {
      "name": "python3",
      "display_name": "Python 3"
    },
    "language_info": {
      "name": "python"
    }
  },
  "cells": [
    {
      "cell_type": "markdown",
      "metadata": {
        "id": "view-in-github",
        "colab_type": "text"
      },
      "source": [
        "<a href=\"https://colab.research.google.com/github/uzbekprogrammer/DataScience/blob/main/faylAnvarNarz.ipynb\" target=\"_parent\"><img src=\"https://colab.research.google.com/assets/colab-badge.svg\" alt=\"Open In Colab\"/></a>"
      ]
    },
    {
      "cell_type": "code",
      "execution_count": null,
      "metadata": {
        "id": "4qdJIThmqK_i"
      },
      "outputs": [],
      "source": [
        "import numpy as np"
      ]
    },
    {
      "cell_type": "code",
      "source": [
        "arr = np.arange(10)\n",
        "arr"
      ],
      "metadata": {
        "id": "yMlIog4sqbQn"
      },
      "execution_count": null,
      "outputs": []
    },
    {
      "cell_type": "code",
      "source": [
        "np.save('data',arr) # Royxatni faylga saqlab olish"
      ],
      "metadata": {
        "id": "b-QIcL48qheP"
      },
      "execution_count": null,
      "outputs": []
    },
    {
      "cell_type": "code",
      "source": [
        "arr2 = np.load('data.npy') # Fayldagi malumotni chaqirib olish\n",
        "arr2"
      ],
      "metadata": {
        "id": "CuQcQXKQrkV7"
      },
      "execution_count": null,
      "outputs": []
    },
    {
      "cell_type": "code",
      "source": [
        "arr1 = np.arange(20)"
      ],
      "metadata": {
        "id": "Qw1Ameibq7v9"
      },
      "execution_count": null,
      "outputs": []
    },
    {
      "cell_type": "code",
      "source": [
        "np.savez('arrays',a=arr,b=arr1) # bir nechta royxatni saqlab olish imkoniyati"
      ],
      "metadata": {
        "id": "Gh-F1ah_sDh4"
      },
      "execution_count": null,
      "outputs": []
    },
    {
      "cell_type": "code",
      "source": [
        "arrays = np.load('arrays.npz')\n",
        "arrays"
      ],
      "metadata": {
        "id": "SW4smOBFsZCx"
      },
      "execution_count": null,
      "outputs": []
    },
    {
      "cell_type": "code",
      "source": [
        "arrays[\"a\"]"
      ],
      "metadata": {
        "id": "Obj5Eib2sS2H"
      },
      "execution_count": null,
      "outputs": []
    },
    {
      "cell_type": "code",
      "source": [
        "arrays['b']"
      ],
      "metadata": {
        "id": "Hqe41iJAtN88"
      },
      "execution_count": null,
      "outputs": []
    },
    {
      "cell_type": "code",
      "source": [
        ""
      ],
      "metadata": {
        "id": "7vbU9OgitVVJ"
      },
      "execution_count": null,
      "outputs": []
    }
  ]
}