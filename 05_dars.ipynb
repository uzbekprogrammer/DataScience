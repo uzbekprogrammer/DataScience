{
  "nbformat": 4,
  "nbformat_minor": 0,
  "metadata": {
    "colab": {
      "name": "05-dars.ipynb",
      "private_outputs": true,
      "provenance": [],
      "authorship_tag": "ABX9TyPFEjvwkyBddz+G5SEB4EGi",
      "include_colab_link": true
    },
    "kernelspec": {
      "name": "python3",
      "display_name": "Python 3"
    },
    "language_info": {
      "name": "python"
    }
  },
  "cells": [
    {
      "cell_type": "markdown",
      "metadata": {
        "id": "view-in-github",
        "colab_type": "text"
      },
      "source": [
        "<a href=\"https://colab.research.google.com/github/uzbekprogrammer/DataScience/blob/main/05_dars.ipynb\" target=\"_parent\"><img src=\"https://colab.research.google.com/assets/colab-badge.svg\" alt=\"Open In Colab\"/></a>"
      ]
    },
    {
      "cell_type": "markdown",
      "source": [
        "#05-dars STRING (MATN)\n",
        "STRING ma'lumot turi va uning ustida amallar\n"
      ],
      "metadata": {
        "id": "DP45ea0SHgfu"
      }
    },
    {
      "cell_type": "markdown",
      "source": [
        "# STRING ustida amallar\n",
        "Matnlarni qo'shish operatori (+)"
      ],
      "metadata": {
        "id": "0VJaJkGRH8za"
      }
    },
    {
      "cell_type": "markdown",
      "source": [
        "Matnlarni qo'shish uchun `+` operatoridan foydalanmiz:\n"
      ],
      "metadata": {
        "id": "FeoIn_HmJxjP"
      }
    },
    {
      "cell_type": "code",
      "execution_count": null,
      "metadata": {
        "id": "Eoq1y4QiHeJH"
      },
      "outputs": [],
      "source": [
        "ism = 'Ahmad'\n",
        "print(\"Mening ismim \" + ism)"
      ]
    },
    {
      "cell_type": "markdown",
      "source": [
        "Natija: `Mening ismim Ahmad`"
      ],
      "metadata": {
        "id": "AaByEwg0J990"
      }
    },
    {
      "cell_type": "code",
      "source": [
        "ism = 'Alisher'\n",
        "familiya = 'Navoiy'\n",
        "print(ism + familiya)"
      ],
      "metadata": {
        "id": "3P-oMSVeJ4VY"
      },
      "execution_count": null,
      "outputs": []
    },
    {
      "cell_type": "markdown",
      "source": [
        "Natija: `AlisherNavoiy`"
      ],
      "metadata": {
        "id": "X8ryjqqcKJCr"
      }
    },
    {
      "cell_type": "markdown",
      "source": [
        "Yuqoridagi kodda ism va familiya orasiga bo'shliq belgisini qo'shmaganimiz uchun ikki matn qo'shilib yozildi. Buni to'g'rilash uchun, 3-qatorni quyidagicha yozamiz:\n"
      ],
      "metadata": {
        "id": "Ud5LWN9cKQWs"
      }
    },
    {
      "cell_type": "code",
      "source": [
        "ism = 'Alisher'\n",
        "familiya = 'Navoiy'\n",
        "print(ism + ' ' + familiya) # ikki o'zgaruvchi orasiga bo'sh joy qo'shamiz"
      ],
      "metadata": {
        "id": "eAu0TLB5KIeS"
      },
      "execution_count": null,
      "outputs": []
    },
    {
      "cell_type": "markdown",
      "source": [
        "Natija: `Alisher Navoiy`"
      ],
      "metadata": {
        "id": "BYATwrupKag3"
      }
    },
    {
      "cell_type": "markdown",
      "source": [
        "#f - string"
      ],
      "metadata": {
        "id": "SJgxwSdNKjtu"
      }
    },
    {
      "cell_type": "markdown",
      "source": [
        "Ikki (va undan ko'p) matn ko'rinishidagi o'zgaruvchilarni birlashtirish uchun f-string usulidan  `f\"{matn1} {matn2}\"`ham foydalansak bo'ladi:\n"
      ],
      "metadata": {
        "id": "GKDXBoBYKogH"
      }
    },
    {
      "cell_type": "code",
      "source": [
        "ism = \"Alisher\"\n",
        "familiya = 'Navoiy'\n",
        "ism_sharif = f\"{ism} {familiya}\"\n",
        "print(ism_sharif)"
      ],
      "metadata": {
        "id": "TqrzVl0NKZyq"
      },
      "execution_count": null,
      "outputs": []
    },
    {
      "cell_type": "markdown",
      "source": [
        "Bu usul yordamida uzun matnlarni ham yasash mumkin:\n"
      ],
      "metadata": {
        "id": "SnyZ_ga2Ky0n"
      }
    },
    {
      "cell_type": "code",
      "source": [
        "ism = \"James\"\n",
        "familiya = 'Bond'\n",
        "print(f\"Salom, mening ismim {familiya}. {ism} {familiya}!\")"
      ],
      "metadata": {
        "id": "TSRJqdMNKxqA"
      },
      "execution_count": null,
      "outputs": []
    },
    {
      "cell_type": "markdown",
      "source": [
        "Natija: `Salom, mening ismim Bond. James Bond!`"
      ],
      "metadata": {
        "id": "XuzAYsqEK4ZC"
      }
    },
    {
      "cell_type": "markdown",
      "source": [
        "#Maxsus belgilar"
      ],
      "metadata": {
        "id": "sKD_TQwOK9-b"
      }
    },
    {
      "cell_type": "markdown",
      "source": [
        "Matnga bo'shliq qo'shish uchun `\\t` belgisidan, yangi qatordan boshlash uchun `\\n` belgisidan foydalanamiz:\n"
      ],
      "metadata": {
        "id": "QGMgQU5jLD5F"
      }
    },
    {
      "cell_type": "code",
      "source": [
        "print('Hello World!')\n",
        "print('Hello \\tWorld!')\n",
        "print('Hello \\nWorld!')"
      ],
      "metadata": {
        "id": "b5O16v_9K8E8"
      },
      "execution_count": null,
      "outputs": []
    },
    {
      "cell_type": "markdown",
      "source": [
        "Natija:\n",
        "`Hello World!` \n",
        "\n",
        "`Hello    World!` \n",
        "\n",
        "`Hello` \n",
        "\n",
        "`World!`"
      ],
      "metadata": {
        "id": "ZeKFG8PRLNJj"
      }
    },
    {
      "cell_type": "markdown",
      "source": [
        "#STRING METODLARI\n"
      ],
      "metadata": {
        "id": "f1ic9sILLfd3"
      }
    },
    {
      "cell_type": "markdown",
      "source": [
        "Pythonda string ustida amalga oshirish mumkin bo'lgan tayyor amallar to'plami mavjud. Bunday amallar to'plami **metodlar** deb ataladi. \n",
        "\n",
        "\n"
      ],
      "metadata": {
        "id": "yEPqbmSnLj53"
      }
    },
    {
      "cell_type": "markdown",
      "source": [
        "Metodlarni qo'llash uchun metod nomi matndan so'ng `.metod_nomi()` ko'rinishida yoziladi. Keling shunday metodlarning ba'zilari bilan tanishaylik."
      ],
      "metadata": {
        "id": "MU9MIciFL3hc"
      }
    },
    {
      "cell_type": "markdown",
      "source": [
        "#`upper()` va `lower()` metodlari"
      ],
      "metadata": {
        "id": "Vs_ixq6yL-hr"
      }
    },
    {
      "cell_type": "markdown",
      "source": [
        "`upper()` metodi matndagi har bir harfni katta harfga o'zgartiradi. \n"
      ],
      "metadata": {
        "id": "nOCXqkgqMGLl"
      }
    },
    {
      "cell_type": "code",
      "source": [
        "ism = \"Alisher\"\n",
        "familiya = 'Navoiy'\n",
        "ism_sharif = f\"{ism} {familiya}\"\n",
        "print(ism_sharif.upper())"
      ],
      "metadata": {
        "id": "7hVurh--LJZz"
      },
      "execution_count": null,
      "outputs": []
    },
    {
      "cell_type": "markdown",
      "source": [
        "Natija: `ALISHER NAVOIY`\n"
      ],
      "metadata": {
        "id": "NLpN4-7-MTns"
      }
    },
    {
      "cell_type": "markdown",
      "source": [
        "`lower()` metodi esa aksincha, har bir harfni kichik harfga o'zgartiradi.\n"
      ],
      "metadata": {
        "id": "KXDpzVK7MYYU"
      }
    },
    {
      "cell_type": "code",
      "source": [
        "ism = \"Alisher\"\n",
        "familiya = 'Navoiy'\n",
        "ism_sharif = f\"{ism} {familiya}\"\n",
        "print(ism_sharif.lower())"
      ],
      "metadata": {
        "id": "sqy7-C1dMPB9"
      },
      "execution_count": null,
      "outputs": []
    },
    {
      "cell_type": "markdown",
      "source": [
        "Natija: `alisher navoiy`"
      ],
      "metadata": {
        "id": "Ks01JqrjMiAQ"
      }
    },
    {
      "cell_type": "markdown",
      "source": [
        "#`title()` va `capitalize()` metodlari"
      ],
      "metadata": {
        "id": "mbbImEUNMrsG"
      }
    },
    {
      "cell_type": "markdown",
      "source": [
        "`title()` metodi matndagi har bir so'zning birinchi harfini katta harf bilan yozadi. \n"
      ],
      "metadata": {
        "id": "bIRKFUYVMxwP"
      }
    },
    {
      "cell_type": "code",
      "source": [
        "ism_sharif = 'james bond'\n",
        "print(ism_sharif.title())"
      ],
      "metadata": {
        "id": "ZmPTHzMaMhIJ"
      },
      "execution_count": null,
      "outputs": []
    },
    {
      "cell_type": "markdown",
      "source": [
        "Natija: `James Bond`\n"
      ],
      "metadata": {
        "id": "g-fJjDBzM3kR"
      }
    },
    {
      "cell_type": "markdown",
      "source": [
        "`capitalize()` esa faqatgina eng birinchi so'zning birinchi harfini katta bilan yozadi.\n"
      ],
      "metadata": {
        "id": "a4DDnqZEM999"
      }
    },
    {
      "cell_type": "code",
      "source": [
        "ism_sharif = 'james bond'\n",
        "print(ism_sharif.capitalize())"
      ],
      "metadata": {
        "id": "d5VEZxsJM6xY"
      },
      "execution_count": null,
      "outputs": []
    },
    {
      "cell_type": "markdown",
      "source": [
        "Natija: `James bond`"
      ],
      "metadata": {
        "id": "nckjT8T6NClE"
      }
    },
    {
      "cell_type": "markdown",
      "source": [
        "Metodlarni faqat o'zgaruvchilarga emas, balki to'g'ridan-to'g'ri matnga ham qo'llash mumkin (aslida o'zgaruvchi ham matnning (yoki boshqa ma'lumotning) manzili xolos)\n"
      ],
      "metadata": {
        "id": "gf_0hdZcNKJZ"
      }
    },
    {
      "cell_type": "code",
      "source": [
        "print('james bond'.upper())"
      ],
      "metadata": {
        "id": "SRFbM37nNBM5"
      },
      "execution_count": null,
      "outputs": []
    },
    {
      "cell_type": "markdown",
      "source": [
        "Natija: `JAMES BOND`"
      ],
      "metadata": {
        "id": "MbBpUlZvNOux"
      }
    },
    {
      "cell_type": "markdown",
      "source": [
        "#`strip()`, `rstrip()` va `lstrip()` metodlari\n"
      ],
      "metadata": {
        "id": "3lxZLJltNXG5"
      }
    },
    {
      "cell_type": "markdown",
      "source": [
        "Bu metodlar matnning boshi va oxiridagi bo'sh joylarni olib tashlaydi.\n"
      ],
      "metadata": {
        "id": "rc9K_vT1NcpW"
      }
    },
    {
      "cell_type": "markdown",
      "source": [
        "\n",
        "\n",
        "*   `lstrip()` — matn boshidagi bo'shliqni,\n",
        "*   `rstrip()` – matn oxiridagi bo'shliqni,\n",
        "*   `strip()` — matn boshi va oxiridagi bo'shliqlarni olib tashlaydi\n"
      ],
      "metadata": {
        "id": "Mz1bwNDbNeOw"
      }
    },
    {
      "cell_type": "code",
      "source": [
        "meva = \"     olma     \"\n",
        "print(\"Men \" + meva.lstrip() + \" yaxshi ko'raman\")\n",
        "print(\"Men \" + meva.rstrip() + \" yaxshi ko'raman\")\n",
        "print(\"Men \" + meva.strip() + \" yaxshi ko'raman\")\n",
        "print(\"Men \" + meva + \" yaxshi ko'raman\")"
      ],
      "metadata": {
        "id": "g3QKXJLsNRmm"
      },
      "execution_count": null,
      "outputs": []
    },
    {
      "cell_type": "markdown",
      "source": [
        "\n",
        "\n",
        "> Men olma      yaxshi ko'raman \n",
        "\n",
        "> Men       olma yaxshi ko'raman \n",
        "\n",
        "> Men olma yaxshi ko'raman \n",
        "\n",
        "> Men       olma      yaxshi ko'raman\n",
        "\n"
      ],
      "metadata": {
        "id": "4cvpeg23OApq"
      }
    },
    {
      "cell_type": "markdown",
      "source": [
        "Matnlar bilan ishlaydigan metodlar ko'p. Ularning ba'zilari bilan kelajakda yana tanishamiz, to'liq ro'yhatni esa quyidagi [sahifada](https://www.w3schools.com/python/python_ref_string.asp) ko'rishingiz mumkin."
      ],
      "metadata": {
        "id": "15utrdZHOAya"
      }
    },
    {
      "cell_type": "markdown",
      "source": [
        "> ❗ Metodlar o'zgaruvchi ichidagi asl matnni o'zgartirmaydi!\n"
      ],
      "metadata": {
        "id": "OapEY4JNOjZ7"
      }
    },
    {
      "cell_type": "markdown",
      "source": [
        "#INPUT —FOYDALANUVCHI BILAN MULOQOT\n"
      ],
      "metadata": {
        "id": "ryt8_LX8PKLN"
      }
    },
    {
      "cell_type": "markdown",
      "source": [
        "Shu paytgacha biz o'zgaruvchilarning qiymatini dasturning ichida berayotgan edik. Keling endi qiymatni o'zimiz emas, balki dastur foydalanuvchilariga kiritish imkonini beramiz. \n"
      ],
      "metadata": {
        "id": "JoG-XcfAPOpw"
      }
    },
    {
      "cell_type": "markdown",
      "source": [
        "Buning uchun `input()` funktsyasidan foydalanamiz. \n"
      ],
      "metadata": {
        "id": "MJYigsVOPP00"
      }
    },
    {
      "cell_type": "code",
      "source": [
        "ism = input(\"Ismingiz nima?\")\n",
        "print(\"Assalom alaykum, \" + ism)"
      ],
      "metadata": {
        "id": "_6nT2FNJOgjN"
      },
      "execution_count": null,
      "outputs": []
    },
    {
      "cell_type": "markdown",
      "source": [
        "Yuqoridagi dastur, avval 1-qatorda foydalanuvchining ismini so'raydi. Foydalanuvchi ismini kiritib, **Enter** tugmasini bosgach, foydalanuvchi kiritgan matn `ism` degan o'zgaruvchiga yuklanadi va dasturining 2-qatori bajaradi:\n",
        "\n",
        "Natija\n",
        "\n",
        "`Ismingiz nima?anvar`\n",
        "\n",
        "`Assalom alaykum, anvar`\n",
        "\n",
        "Keling yuqoridagi kod va uning natijasini chiroyliroq ko'rinishga keltiramiz."
      ],
      "metadata": {
        "id": "Xb_3wHPZPWad"
      }
    },
    {
      "cell_type": "code",
      "source": [
        "ism = input(\"Ismingiz nima?\\n>>>\") # Foydalanuvchi ismini yangi qatordan kiritadi\n",
        "print(\"Assalom alaykum, \" + ism.title())"
      ],
      "metadata": {
        "id": "RKfDMqO3PvW_"
      },
      "execution_count": null,
      "outputs": []
    },
    {
      "cell_type": "markdown",
      "source": [
        "Natija: \n",
        "\n",
        "`Ismingiz nima?anvar`\n",
        "\n",
        "`Assalomu aleykum, Anvar`"
      ],
      "metadata": {
        "id": "QStQ5QvkPybc"
      }
    },
    {
      "cell_type": "markdown",
      "source": [
        "#AMALIYOT"
      ],
      "metadata": {
        "id": "GAd4dmn-QEqP"
      }
    },
    {
      "cell_type": "markdown",
      "source": [
        "Quyidagi mashqlarni bajaring\n",
        "\n",
        "1.\n",
        "\n",
        "* Quyidagi o'zgaruvchilarni yarating: \n",
        "    \n",
        "    * `kocha=\"Bog'bon\"`\n",
        "    * `mahalla=\"Sog'bon\"`\n",
        "    * `tuman=\"Bodomzor\"`\n",
        "    * `viloyat=\"Samarqand\"`\n",
        "\n",
        "* Yuqoridagi o'zgaruvchilarni jamlab, quyidagi ko'rinishda konsolga chiqaring:\n",
        "    * `Bog'bon ko'chasi, Sog'bon mahallasi, Bodomzor tumani, Samarqand viloyati\n",
        "`\n",
        "* Yuqoridagi o'zgaruvchilarning (`kocha`, `mahalla`, `tuman`, `viloyat`) qiymatini foydalanuvchidan so'rang. Va avvalgi mashqni takrorlang.\n",
        "\n",
        "* `manzil`ga biz yuqorida o'rgangan `title()`, `upper()`, `lower()` , `capitalize()` metodlarini qo'llab ko'ring.\n",
        "\n",
        "2.\n",
        "\n",
        "* Quyidagi o'zgaruvchilarni yarating: \n",
        "    * `kocha=\"Bog'bon\"`\n",
        "    * `mahalla=\"Sog'bon\"`\n",
        "    * `tuman=\"Bodomzor\"`\n",
        "    * `viloyat=\"Samarqand\"`\n",
        "* Yuqoridagi o'zgaruvchilarni jamlab, quyidagi ko'rinishda konsolga chiqaring:\n",
        "    * `Bog'bon ko'chasi, Sog'bon mahallasi, Bodomzor tumani, Samarqand viloyati\n",
        "`\n",
        "* Yuqoridagi matnni konsolga chiqarishda har bir verguldan keyin yangi qatordan yozing\n",
        "\n",
        "*  `manzil`ga biz yuqorida o'rgangan `title()`, `upper()`, `lower()` , `capitalize()` metodlarini qo'llab ko'ring."
      ],
      "metadata": {
        "id": "LFtJZvaBQG0G"
      }
    },
    {
      "cell_type": "code",
      "source": [
        ""
      ],
      "metadata": {
        "id": "TcFSe_PpQCu7"
      },
      "execution_count": null,
      "outputs": []
    }
  ]
}