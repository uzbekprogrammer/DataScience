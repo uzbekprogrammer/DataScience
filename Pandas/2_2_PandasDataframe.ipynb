{
  "nbformat": 4,
  "nbformat_minor": 0,
  "metadata": {
    "colab": {
      "private_outputs": true,
      "provenance": [],
      "authorship_tag": "ABX9TyPPVnamKXEWf06BXmMzXird",
      "include_colab_link": true
    },
    "kernelspec": {
      "name": "python3",
      "display_name": "Python 3"
    },
    "language_info": {
      "name": "python"
    }
  },
  "cells": [
    {
      "cell_type": "markdown",
      "metadata": {
        "id": "view-in-github",
        "colab_type": "text"
      },
      "source": [
        "<a href=\"https://colab.research.google.com/github/uzbekprogrammer/DataScience/blob/main/Pandas/2_2_PandasDataframe.ipynb\" target=\"_parent\"><img src=\"https://colab.research.google.com/assets/colab-badge.svg\" alt=\"Open In Colab\"/></a>"
      ]
    },
    {
      "cell_type": "markdown",
      "source": [
        "# Data Science va Sun'iy Intellekt Praktikum\n",
        "\n",
        "## Ma'lumotlar tahlili. Pandas kutubxonasi\n",
        "### `DataFrame` malumotlar tuzilmasi\n",
        "\n"
      ],
      "metadata": {
        "id": "wtrd8-Gj4tbB"
      }
    },
    {
      "cell_type": "code",
      "source": [
        "from pprint import pprint as print"
      ],
      "metadata": {
        "id": "dovnqvwA4Wcm"
      },
      "execution_count": null,
      "outputs": []
    },
    {
      "cell_type": "code",
      "execution_count": null,
      "metadata": {
        "id": "wXTt_WpA4pZb"
      },
      "outputs": [],
      "source": [
        "import pandas as pd\n",
        "from pandas import Series, DataFrame"
      ]
    },
    {
      "cell_type": "code",
      "source": [
        "import numpy as np"
      ],
      "metadata": {
        "id": "9wPA7b8344Tc"
      },
      "execution_count": null,
      "outputs": []
    },
    {
      "cell_type": "code",
      "source": [
        "data = {'Yil':[2021, 2020, 2019, 2018, 2017, 2016, 2015, 2010],\n",
        "       'Aholi soni':[33.9, 33.5, 32.9, 32.5, 31.9, 31.4, 30.9, 28.5],\n",
        "       \"Temp\":[1.54, 1.48, 1.56, 1.62, 1.65, 1.66, 1.64, 1.53]}\n",
        "df = DataFrame(data)"
      ],
      "metadata": {
        "id": "rfuJ57hk5POi"
      },
      "execution_count": null,
      "outputs": []
    },
    {
      "cell_type": "code",
      "source": [
        "df"
      ],
      "metadata": {
        "id": "kFr3Zb5E5lLM"
      },
      "execution_count": null,
      "outputs": []
    },
    {
      "cell_type": "code",
      "source": [
        "df.head() #yuqoridagi 5ta qiymat korish mumkin"
      ],
      "metadata": {
        "id": "VFIjcw9G59nD"
      },
      "execution_count": null,
      "outputs": []
    },
    {
      "cell_type": "code",
      "source": [
        "df.head(4) #parametrdagicha qiymatni koradi"
      ],
      "metadata": {
        "id": "H881-VRI5_7H"
      },
      "execution_count": null,
      "outputs": []
    },
    {
      "cell_type": "code",
      "source": [
        "df.shape"
      ],
      "metadata": {
        "id": "WLg9RJ0g6Nj8"
      },
      "execution_count": null,
      "outputs": []
    },
    {
      "cell_type": "code",
      "source": [
        "df = DataFrame(data, columns = ['Yil','Temp','Aholi soni',\"YAIM\"], index=list(range(21,13,-1)))\n",
        "df"
      ],
      "metadata": {
        "id": "0GxZ-3Eh6Q10"
      },
      "execution_count": null,
      "outputs": []
    },
    {
      "cell_type": "code",
      "source": [
        "aholi = df['Aholi soni']\n",
        "aholi.head()"
      ],
      "metadata": {
        "id": "wDIev2bK6ydT"
      },
      "execution_count": null,
      "outputs": []
    },
    {
      "cell_type": "code",
      "source": [
        "df.Temp"
      ],
      "metadata": {
        "id": "rT4ME_mL8BgP"
      },
      "execution_count": null,
      "outputs": []
    },
    {
      "cell_type": "code",
      "source": [
        "df.YAIM = 0\n",
        "df"
      ],
      "metadata": {
        "id": "p68-KFDa8PYv"
      },
      "execution_count": null,
      "outputs": []
    },
    {
      "cell_type": "markdown",
      "source": [],
      "metadata": {
        "id": "_vxTeYC08sip"
      }
    },
    {
      "cell_type": "code",
      "source": [
        "val = np.random.randint(10000,100000,8)\n",
        "val"
      ],
      "metadata": {
        "id": "cxV1NkGm8URv"
      },
      "execution_count": null,
      "outputs": []
    },
    {
      "cell_type": "code",
      "source": [
        "df.YAIM = val\n",
        "df"
      ],
      "metadata": {
        "id": "4RItvQJb9UGP"
      },
      "execution_count": null,
      "outputs": []
    },
    {
      "cell_type": "code",
      "source": [
        "df['50000+'] = df.YAIM >= 50000\n",
        "df"
      ],
      "metadata": {
        "id": "n0zmg0Jm9aFl"
      },
      "execution_count": null,
      "outputs": []
    },
    {
      "cell_type": "code",
      "source": [
        "df['50000+'].iloc[1] #"
      ],
      "metadata": {
        "id": "V72jmrgw93Pu"
      },
      "execution_count": null,
      "outputs": []
    },
    {
      "cell_type": "code",
      "source": [
        "data1 = {\n",
        "    'Uzbekistan':{2021:33.9, 2020:33.5, 2019:32.9, 2018:32.5, 2017:31.9, 2015:[30.9,31]},\n",
        "    'Kazakhstan':{2021:18.9, 2020:18.7, 2019:18.5, 2018:18.3, 2017:18.1, 2016:17.8}\n",
        "}\n",
        "df2 = DataFrame(data1)\n",
        "df2"
      ],
      "metadata": {
        "id": "1yZ-tYAL-w9U"
      },
      "execution_count": null,
      "outputs": []
    },
    {
      "cell_type": "markdown",
      "source": [
        "###Agar hamma malumotlar kerak bolmasa aniq bir `index` bo'yicha dataframe yaratib olishimiz mumkin"
      ],
      "metadata": {
        "id": "a6CTKWuZAO9j"
      }
    },
    {
      "cell_type": "code",
      "source": [
        "df1 = DataFrame(data1, index=[2021,2019,2017])\n",
        "df1"
      ],
      "metadata": {
        "id": "w6yKkMl3AaPm"
      },
      "execution_count": null,
      "outputs": []
    },
    {
      "cell_type": "code",
      "source": [
        "df1.T"
      ],
      "metadata": {
        "id": "DwUYpw2YA2fs"
      },
      "execution_count": null,
      "outputs": []
    },
    {
      "cell_type": "code",
      "source": [
        "indeks = df.columns\n",
        "indeks\n"
      ],
      "metadata": {
        "id": "I4Q3KqUz1iYs"
      },
      "execution_count": null,
      "outputs": []
    },
    {
      "cell_type": "code",
      "source": [
        "'Temp' in indeks"
      ],
      "metadata": {
        "id": "TC3yoEcD11iS"
      },
      "execution_count": null,
      "outputs": []
    },
    {
      "cell_type": "code",
      "source": [
        "data1 = {\n",
        "    'Uzbekistan':{2021:33.9, 2020:33.5, 2019:32.9, 2018:32.5, 2017:31.9, 2015:[30.9,31]},\n",
        "    'Kazakhstan':{2021:18.9, 2020:18.7, 2019:18.5, 2018:18.3, 2017:18.1, 2016:17.8}\n",
        "}\n",
        "df2 = DataFrame(data1)\n",
        "df2"
      ],
      "metadata": {
        "id": "BoCrfYW72Wls"
      },
      "execution_count": null,
      "outputs": []
    },
    {
      "cell_type": "code",
      "source": [
        "usernames = {\"anvar\":\"anvarbek223\", \"olim\":\"olimtoy\", \"maryam\":\"mary334455\",\"javohir\":\"javohir445\"}\n",
        "emails = {\"anvar\":\"anvar@gmail.com\", \"olim\":\"olim@mail.ru\", \"maryam\":\"mary33@gmail.com\",\"javohir\":\"javohir445@gmail.com\"}\n",
        "\n",
        "data = {\n",
        "    'username':usernames,\n",
        "    'email':emails\n",
        "}\n"
      ],
      "metadata": {
        "id": "cqSrDnh23IUa"
      },
      "execution_count": null,
      "outputs": []
    },
    {
      "cell_type": "code",
      "source": [
        "print(data)"
      ],
      "metadata": {
        "id": "8X8-VZpZ4OBo"
      },
      "execution_count": null,
      "outputs": []
    },
    {
      "cell_type": "code",
      "source": [
        "df = DataFrame(data)\n",
        "df"
      ],
      "metadata": {
        "id": "wdtzF3ZS4Rbg"
      },
      "execution_count": null,
      "outputs": []
    },
    {
      "cell_type": "code",
      "source": [
        "df.index"
      ],
      "metadata": {
        "id": "yZan5noA48O7"
      },
      "execution_count": null,
      "outputs": []
    },
    {
      "cell_type": "code",
      "source": [
        "data2 = {\n",
        "    'username':{\"olim\":\"olimjon21\", \"maryam\":\"maryam2020\"},\n",
        "    'email':{\"olim\":\"olimjon21@mail.ru\", \"maryam\":\"maryam20@gmail.com\"}\n",
        "}\n",
        "print(data2)"
      ],
      "metadata": {
        "id": "B4fNX24U5RbK"
      },
      "execution_count": null,
      "outputs": []
    },
    {
      "cell_type": "code",
      "source": [
        "df2 = DataFrame(data2)\n",
        "df2"
      ],
      "metadata": {
        "id": "0B3FZld-5fZ1"
      },
      "execution_count": null,
      "outputs": []
    },
    {
      "cell_type": "code",
      "source": [
        "# prompt: append 2 dataframe df and df2\n",
        "\n",
        "df = pd.concat([df, df2])\n",
        "df"
      ],
      "metadata": {
        "id": "JhV8-KmG7F4P"
      },
      "execution_count": null,
      "outputs": []
    },
    {
      "cell_type": "code",
      "source": [
        "df.loc['olim']"
      ],
      "metadata": {
        "id": "i6yGlTnG6RCg"
      },
      "execution_count": null,
      "outputs": []
    },
    {
      "cell_type": "code",
      "source": [
        "new_ind = pd.Index(['olim','nafisa','hamida','javohir'])\n",
        "new_ind"
      ],
      "metadata": {
        "id": "Nk1URxoy9e0S"
      },
      "execution_count": null,
      "outputs": []
    },
    {
      "cell_type": "code",
      "source": [
        "difInd = new_ind.isin(df.index)\n",
        "difInd"
      ],
      "metadata": {
        "id": "62VOJMBY6Y2E"
      },
      "execution_count": null,
      "outputs": []
    },
    {
      "cell_type": "markdown",
      "source": [
        "###Ikkalasida bor elementni chiqaramiz\n"
      ],
      "metadata": {
        "id": "QyAnmSjB-hwQ"
      }
    },
    {
      "cell_type": "code",
      "source": [
        "new_ind[difInd]"
      ],
      "metadata": {
        "id": "pCfkG7Vt-aUq"
      },
      "execution_count": null,
      "outputs": []
    },
    {
      "cell_type": "code",
      "source": [
        "df.index.difference(new_ind) #df digi indexlarni farqlilarini chiqaramiz"
      ],
      "metadata": {
        "id": "7EAdfIiL-gf0"
      },
      "execution_count": null,
      "outputs": []
    },
    {
      "cell_type": "code",
      "source": [
        "new_ind.difference(df.index)"
      ],
      "metadata": {
        "id": "erQgVgso_H-m"
      },
      "execution_count": null,
      "outputs": []
    },
    {
      "cell_type": "code",
      "source": [
        "df.index.union(new_ind) #ikkita indexni jamlaydi"
      ],
      "metadata": {
        "id": "44h26EZe_NMY"
      },
      "execution_count": null,
      "outputs": []
    },
    {
      "cell_type": "code",
      "source": [
        "df.index.unique()"
      ],
      "metadata": {
        "id": "3d-ZCkNh_nmn"
      },
      "execution_count": null,
      "outputs": []
    },
    {
      "cell_type": "code",
      "source": [
        "dir(df.index)"
      ],
      "metadata": {
        "id": "a-xW9nz-AQG2"
      },
      "execution_count": null,
      "outputs": []
    },
    {
      "cell_type": "code",
      "source": [
        "\n",
        "df"
      ],
      "metadata": {
        "id": "o2lsPrFeAIr6"
      },
      "execution_count": null,
      "outputs": []
    },
    {
      "cell_type": "code",
      "source": [
        "df.loc['olim']"
      ],
      "metadata": {
        "id": "Z7XzO8jvACFX"
      },
      "execution_count": null,
      "outputs": []
    }
  ]
}