{
  "nbformat": 4,
  "nbformat_minor": 0,
  "metadata": {
    "colab": {
      "private_outputs": true,
      "provenance": [],
      "authorship_tag": "ABX9TyPObw2Q+An3CTXbZaVX0z4q",
      "include_colab_link": true
    },
    "kernelspec": {
      "name": "python3",
      "display_name": "Python 3"
    },
    "language_info": {
      "name": "python"
    }
  },
  "cells": [
    {
      "cell_type": "markdown",
      "metadata": {
        "id": "view-in-github",
        "colab_type": "text"
      },
      "source": [
        "<a href=\"https://colab.research.google.com/github/uzbekprogrammer/DataScience/blob/main/Pandas/2_2_PandasDataframe.ipynb\" target=\"_parent\"><img src=\"https://colab.research.google.com/assets/colab-badge.svg\" alt=\"Open In Colab\"/></a>"
      ]
    },
    {
      "cell_type": "markdown",
      "source": [
        "# Data Science va Sun'iy Intellekt Praktikum\n",
        "\n",
        "## Ma'lumotlar tahlili. Pandas kutubxonasi\n",
        "### `DataFrame` malumotlar tuzilmasi\n",
        "\n"
      ],
      "metadata": {
        "id": "wtrd8-Gj4tbB"
      }
    },
    {
      "cell_type": "code",
      "execution_count": null,
      "metadata": {
        "id": "wXTt_WpA4pZb"
      },
      "outputs": [],
      "source": [
        "import pandas as pd\n",
        "from pandas import Series, DataFrame"
      ]
    },
    {
      "cell_type": "code",
      "source": [
        "import numpy as np"
      ],
      "metadata": {
        "id": "9wPA7b8344Tc"
      },
      "execution_count": null,
      "outputs": []
    },
    {
      "cell_type": "code",
      "source": [
        "data = {'Yil':[2021, 2020, 2019, 2018, 2017, 2016, 2015, 2010],\n",
        "       'Aholi soni':[33.9, 33.5, 32.9, 32.5, 31.9, 31.4, 30.9, 28.5],\n",
        "       \"Temp\":[1.54, 1.48, 1.56, 1.62, 1.65, 1.66, 1.64, 1.53]}\n",
        "df = DataFrame(data)"
      ],
      "metadata": {
        "id": "rfuJ57hk5POi"
      },
      "execution_count": null,
      "outputs": []
    },
    {
      "cell_type": "code",
      "source": [
        "df"
      ],
      "metadata": {
        "id": "kFr3Zb5E5lLM"
      },
      "execution_count": null,
      "outputs": []
    },
    {
      "cell_type": "code",
      "source": [
        "df.head() #yuqoridagi 5ta qiymat korish mumkin"
      ],
      "metadata": {
        "id": "VFIjcw9G59nD"
      },
      "execution_count": null,
      "outputs": []
    },
    {
      "cell_type": "code",
      "source": [
        "df.head(4) #parametrdagicha qiymatni koradi"
      ],
      "metadata": {
        "id": "H881-VRI5_7H"
      },
      "execution_count": null,
      "outputs": []
    },
    {
      "cell_type": "code",
      "source": [
        "df.shape"
      ],
      "metadata": {
        "id": "WLg9RJ0g6Nj8"
      },
      "execution_count": null,
      "outputs": []
    },
    {
      "cell_type": "code",
      "source": [
        "df = DataFrame(data, columns = ['Yil','Temp','Aholi soni',\"YAIM\"], index=list(range(21,13,-1)))\n",
        "df"
      ],
      "metadata": {
        "id": "0GxZ-3Eh6Q10"
      },
      "execution_count": null,
      "outputs": []
    },
    {
      "cell_type": "code",
      "source": [
        "aholi = df['Aholi soni']\n",
        "aholi.head()"
      ],
      "metadata": {
        "id": "wDIev2bK6ydT"
      },
      "execution_count": null,
      "outputs": []
    },
    {
      "cell_type": "code",
      "source": [
        "df.Temp"
      ],
      "metadata": {
        "id": "rT4ME_mL8BgP"
      },
      "execution_count": null,
      "outputs": []
    },
    {
      "cell_type": "code",
      "source": [
        "df.YAIM = 0\n",
        "df"
      ],
      "metadata": {
        "id": "p68-KFDa8PYv"
      },
      "execution_count": null,
      "outputs": []
    },
    {
      "cell_type": "markdown",
      "source": [],
      "metadata": {
        "id": "_vxTeYC08sip"
      }
    },
    {
      "cell_type": "code",
      "source": [
        "val = np.random.randint(10000,100000,8)\n",
        "val"
      ],
      "metadata": {
        "id": "cxV1NkGm8URv"
      },
      "execution_count": null,
      "outputs": []
    },
    {
      "cell_type": "code",
      "source": [
        "df.YAIM = val\n",
        "df"
      ],
      "metadata": {
        "id": "4RItvQJb9UGP"
      },
      "execution_count": null,
      "outputs": []
    },
    {
      "cell_type": "code",
      "source": [
        "df['50000+'] = df.YAIM >= 50000\n",
        "df"
      ],
      "metadata": {
        "id": "n0zmg0Jm9aFl"
      },
      "execution_count": null,
      "outputs": []
    },
    {
      "cell_type": "code",
      "source": [
        "df['50000+'].iloc[1] #"
      ],
      "metadata": {
        "id": "V72jmrgw93Pu"
      },
      "execution_count": null,
      "outputs": []
    }
  ]
}