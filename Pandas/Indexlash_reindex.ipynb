{
  "nbformat": 4,
  "nbformat_minor": 0,
  "metadata": {
    "colab": {
      "private_outputs": true,
      "provenance": [],
      "authorship_tag": "ABX9TyMZkPrQxqRcMu6H5ExjMcab",
      "include_colab_link": true
    },
    "kernelspec": {
      "name": "python3",
      "display_name": "Python 3"
    },
    "language_info": {
      "name": "python"
    }
  },
  "cells": [
    {
      "cell_type": "markdown",
      "metadata": {
        "id": "view-in-github",
        "colab_type": "text"
      },
      "source": [
        "<a href=\"https://colab.research.google.com/github/uzbekprogrammer/DataScience/blob/main/Pandas/Indexlash_reindex.ipynb\" target=\"_parent\"><img src=\"https://colab.research.google.com/assets/colab-badge.svg\" alt=\"Open In Colab\"/></a>"
      ]
    },
    {
      "cell_type": "code",
      "execution_count": null,
      "metadata": {
        "id": "mAL92JwXIyqo"
      },
      "outputs": [],
      "source": [
        "import pandas as pd\n",
        "import numpy as np\n",
        "from pprint import pprint"
      ]
    },
    {
      "cell_type": "code",
      "source": [
        "from pandas import DataFrame, Series"
      ],
      "metadata": {
        "id": "EMZbDoLQI46m"
      },
      "execution_count": null,
      "outputs": []
    },
    {
      "cell_type": "code",
      "source": [
        "data = {'Yil':[2021, 2020, 2019, 2018, 2017, 2016, 2015, 2010],\n",
        "       'Aholi soni':[33.9, 33.5, 32.9, 32.5, 31.9, 31.4, 30.9, 28.5],\n",
        "       'Temp':[1.54, 1.48, 1.56, 1.62, 1.65, 1.66, 1.64, 1.53],\n",
        "       'Zichlik':[79.77, 78.68, 77.53, 76.34, 75.13, 73.91, 72.71, 67.03]}\n",
        "df = DataFrame(data, columns = ['Yil','Temp','Zichlik','Aholi soni'], index=list(range(10,18)))\n",
        "df"
      ],
      "metadata": {
        "id": "pectgpORJEI_"
      },
      "execution_count": null,
      "outputs": []
    },
    {
      "cell_type": "code",
      "source": [
        "ind = [21, 20, 19, 18, 17, 16, 15, 10]\n",
        "df.index = ind\n",
        "df"
      ],
      "metadata": {
        "id": "_WzWbRGMJcIT"
      },
      "execution_count": null,
      "outputs": []
    },
    {
      "cell_type": "code",
      "source": [
        "rind = [21, 20, 19, 18, 17, 16, 15, 10]\n",
        "rind.sort()\n",
        "df.reindex(rind)"
      ],
      "metadata": {
        "id": "h1xykT8EKyRh"
      },
      "execution_count": null,
      "outputs": []
    },
    {
      "cell_type": "code",
      "source": [
        "df"
      ],
      "metadata": {
        "id": "FNLjBEbKJZNY"
      },
      "execution_count": null,
      "outputs": []
    },
    {
      "cell_type": "markdown",
      "source": [
        "###Biror bir index kerak bolsa `reindex` atributidan foydalansa boladi"
      ],
      "metadata": {
        "id": "8iaHToKWL8do"
      }
    },
    {
      "cell_type": "code",
      "source": [
        "df.reindex([10,15,20])"
      ],
      "metadata": {
        "id": "o5eQ13xjMCrI"
      },
      "execution_count": null,
      "outputs": []
    },
    {
      "cell_type": "markdown",
      "source": [
        "#`reindex` atributi bilan indexlarni yangilash mumkin"
      ],
      "metadata": {
        "id": "wNid_i1_NGQV"
      }
    },
    {
      "cell_type": "code",
      "source": [
        "df.reindex(index = range(10,22), method = 'nearest') #method works to fill gaps"
      ],
      "metadata": {
        "id": "EiEaHZjpMg-k"
      },
      "execution_count": null,
      "outputs": []
    },
    {
      "cell_type": "code",
      "source": [
        "df.sample() #tasodifiy qiymat qaytaradi"
      ],
      "metadata": {
        "id": "w9Da38CENRuu"
      },
      "execution_count": null,
      "outputs": []
    },
    {
      "cell_type": "code",
      "source": [
        "df2 = df.reindex(columns=['Aholi soni','Temp', 'Zichlik'])\n",
        "df2"
      ],
      "metadata": {
        "id": "yEt8BA6vL8SI"
      },
      "execution_count": null,
      "outputs": []
    },
    {
      "cell_type": "code",
      "source": [
        "df2.reindex(index=range(10,22), method='nearest')"
      ],
      "metadata": {
        "id": "pO187YQ4Orbd"
      },
      "execution_count": null,
      "outputs": []
    },
    {
      "cell_type": "markdown",
      "source": [
        "###Endi istalgan qator va ustuni ajratib olish qismi"
      ],
      "metadata": {
        "id": "-j2oOCRoQP-e"
      }
    },
    {
      "cell_type": "code",
      "source": [
        "df"
      ],
      "metadata": {
        "id": "TihvT7jPQUdA"
      },
      "execution_count": null,
      "outputs": []
    },
    {
      "cell_type": "code",
      "source": [
        "df.loc[[10,18,20],['Temp','Zichlik']]"
      ],
      "metadata": {
        "id": "BtGFhLNZQPd8"
      },
      "execution_count": null,
      "outputs": []
    },
    {
      "cell_type": "code",
      "source": [
        "df.drop([10,18,20]) # tashlab yuborib yangi o'zgaruvchi yaratadi, ozgarishsiz qoladi"
      ],
      "metadata": {
        "id": "-abAhMSvL7Nh"
      },
      "execution_count": null,
      "outputs": []
    },
    {
      "cell_type": "code",
      "source": [
        "df.drop('Yil', axis=1) #ustundan ochiradi\n",
        "\n",
        "#Bu yerda axis o'q degan manoni anglatadi va qator axis=0 ga ustun esa axis=1 ga teng\n",
        "#Agar axis parametri yozilmasa axis=0 deb qabul qiladi"
      ],
      "metadata": {
        "id": "JfVw8fxyRf1c"
      },
      "execution_count": null,
      "outputs": []
    },
    {
      "cell_type": "code",
      "source": [
        "df.drop('Yil', axis='columns') #ustundan ochiradi 2-usul\n"
      ],
      "metadata": {
        "id": "xxdAYqbfR9e3"
      },
      "execution_count": null,
      "outputs": []
    },
    {
      "cell_type": "code",
      "source": [
        "df.drop('Yil', axis='columns', inplace = True) #inplace-o'rnida degan manoda va buni qoyilsa dataframeni oziga o'zgartirish kiritiladi !warning\n",
        "df"
      ],
      "metadata": {
        "id": "F_lbrBqxSYGb"
      },
      "execution_count": null,
      "outputs": []
    }
  ]
}