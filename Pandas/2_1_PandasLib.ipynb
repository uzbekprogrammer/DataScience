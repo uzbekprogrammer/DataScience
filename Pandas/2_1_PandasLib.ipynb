{
  "nbformat": 4,
  "nbformat_minor": 0,
  "metadata": {
    "colab": {
      "private_outputs": true,
      "provenance": [],
      "authorship_tag": "ABX9TyNGoySYKIWY6VNmwHdO9hZr",
      "include_colab_link": true
    },
    "kernelspec": {
      "name": "python3",
      "display_name": "Python 3"
    },
    "language_info": {
      "name": "python"
    }
  },
  "cells": [
    {
      "cell_type": "markdown",
      "metadata": {
        "id": "view-in-github",
        "colab_type": "text"
      },
      "source": [
        "<a href=\"https://colab.research.google.com/github/uzbekprogrammer/DataScience/blob/main/Pandas/2_1_PandasLib.ipynb\" target=\"_parent\"><img src=\"https://colab.research.google.com/assets/colab-badge.svg\" alt=\"Open In Colab\"/></a>"
      ]
    },
    {
      "cell_type": "markdown",
      "source": [
        "# Data Science va Sun'iy Intellekt Praktikum\n",
        "\n",
        "## Ma'lumotlar tahlili. Pandas kutubxonasi\n",
        "### `Series` malumotlar tuzilmasi\n",
        "\n"
      ],
      "metadata": {
        "id": "D2HyN6qCuWz-"
      }
    },
    {
      "cell_type": "code",
      "execution_count": null,
      "metadata": {
        "id": "lPWz0AGluBRT"
      },
      "outputs": [],
      "source": [
        "import pandas as pd"
      ]
    },
    {
      "cell_type": "code",
      "source": [
        "import numpy as np"
      ],
      "metadata": {
        "id": "YgP2R_0FuiPF"
      },
      "execution_count": null,
      "outputs": []
    },
    {
      "cell_type": "markdown",
      "source": [
        "##`Series` ma'lumotlar tuzilmazi"
      ],
      "metadata": {
        "id": "qLN-GurBuv-y"
      }
    },
    {
      "cell_type": "code",
      "source": [
        "from pandas import Series"
      ],
      "metadata": {
        "id": "bFtwbZbuvDsK"
      },
      "execution_count": null,
      "outputs": []
    },
    {
      "cell_type": "code",
      "source": [
        "obj = Series([4, 5, 6, -6.5])"
      ],
      "metadata": {
        "id": "9xhLMtlTvKvZ"
      },
      "execution_count": null,
      "outputs": []
    },
    {
      "cell_type": "code",
      "source": [
        "type(obj)"
      ],
      "metadata": {
        "id": "hDoeoT71vM3j"
      },
      "execution_count": null,
      "outputs": []
    },
    {
      "cell_type": "code",
      "source": [
        "obj"
      ],
      "metadata": {
        "id": "wFrO2foLwG28"
      },
      "execution_count": null,
      "outputs": []
    },
    {
      "cell_type": "code",
      "source": [
        "obj2 = Series([6, 3, 2, 1], index=['a', 'b', 'c', 'd'])"
      ],
      "metadata": {
        "id": "BM5ezFWZw0H_"
      },
      "execution_count": null,
      "outputs": []
    },
    {
      "cell_type": "code",
      "source": [
        "obj2"
      ],
      "metadata": {
        "id": "nJoLPjzBw-QV"
      },
      "execution_count": null,
      "outputs": []
    },
    {
      "cell_type": "code",
      "source": [
        "obj2.index"
      ],
      "metadata": {
        "id": "f2QgHs8TxAFm"
      },
      "execution_count": null,
      "outputs": []
    },
    {
      "cell_type": "code",
      "source": [
        "obj2.values"
      ],
      "metadata": {
        "id": "TxjkpiYHxDaM"
      },
      "execution_count": null,
      "outputs": []
    },
    {
      "cell_type": "code",
      "source": [
        "obj2[['a','b']]"
      ],
      "metadata": {
        "id": "QZh33ityxMZo"
      },
      "execution_count": null,
      "outputs": []
    },
    {
      "cell_type": "code",
      "source": [
        "np.exp(obj2)"
      ],
      "metadata": {
        "id": "A8065fHNxpCh"
      },
      "execution_count": null,
      "outputs": []
    },
    {
      "cell_type": "code",
      "source": [
        "cars_dict = {'Malibu':40000, 'Lacetti':20000, 'Toyota': 45000, 'Mazda': 53000, 'Honda':38000}\n",
        "cars_dict"
      ],
      "metadata": {
        "id": "iG3n7KYcxzPV"
      },
      "execution_count": null,
      "outputs": []
    },
    {
      "cell_type": "code",
      "source": [
        "type(cars_dict)"
      ],
      "metadata": {
        "id": "d3lLIhg7zNWc"
      },
      "execution_count": null,
      "outputs": []
    },
    {
      "cell_type": "code",
      "source": [
        "carsSer = Series(cars_dict)\n",
        "carsSer"
      ],
      "metadata": {
        "id": "1pVOqOvVzRex"
      },
      "execution_count": null,
      "outputs": []
    },
    {
      "cell_type": "code",
      "source": [
        "\"Malibu\" in carsSer"
      ],
      "metadata": {
        "id": "aZec1943zcUO"
      },
      "execution_count": null,
      "outputs": []
    },
    {
      "cell_type": "code",
      "source": [
        "\"BMW\" in carsSer"
      ],
      "metadata": {
        "id": "ZzuTpFejzxgf"
      },
      "execution_count": null,
      "outputs": []
    },
    {
      "cell_type": "code",
      "source": [
        "carsSer['Malibu']"
      ],
      "metadata": {
        "id": "rKTRRJmXzz2y"
      },
      "execution_count": null,
      "outputs": []
    },
    {
      "cell_type": "code",
      "source": [
        "models = ['Honda', 'Mazda', 'Lacetti', 'Jaguar', 'Malibu', 'Toyota','BMW','Nexia']"
      ],
      "metadata": {
        "id": "TE0JaWRHz4An"
      },
      "execution_count": null,
      "outputs": []
    },
    {
      "cell_type": "code",
      "source": [
        "cars2 = Series(cars_dict, index=models)\n",
        "cars2"
      ],
      "metadata": {
        "id": "_kaRNUL70NSY"
      },
      "execution_count": null,
      "outputs": []
    },
    {
      "cell_type": "code",
      "source": [
        "cars2.isnull()"
      ],
      "metadata": {
        "id": "zHD8PmJR0TrS"
      },
      "execution_count": null,
      "outputs": []
    },
    {
      "cell_type": "code",
      "source": [
        "cars2.notnull()"
      ],
      "metadata": {
        "id": "nUBQWfn61BBc"
      },
      "execution_count": null,
      "outputs": []
    },
    {
      "cell_type": "code",
      "source": [
        "cars2"
      ],
      "metadata": {
        "id": "h3pK_3aW1GdZ"
      },
      "execution_count": null,
      "outputs": []
    },
    {
      "cell_type": "code",
      "source": [
        "carsSer"
      ],
      "metadata": {
        "id": "qX71TE7e1NS9"
      },
      "execution_count": null,
      "outputs": []
    },
    {
      "cell_type": "code",
      "source": [
        "cars2 + carsSer"
      ],
      "metadata": {
        "id": "1u8_HE4A1XMh"
      },
      "execution_count": null,
      "outputs": []
    },
    {
      "cell_type": "code",
      "source": [
        "cars2.name='Avtosalon'\n",
        "cars2.index.name='Modellar'\n",
        "print(cars2)"
      ],
      "metadata": {
        "id": "85vUKrk_1jvx"
      },
      "execution_count": null,
      "outputs": []
    },
    {
      "cell_type": "code",
      "source": [
        "cars2.shape"
      ],
      "metadata": {
        "id": "HmktWnli18P4"
      },
      "execution_count": null,
      "outputs": []
    },
    {
      "cell_type": "code",
      "source": [
        "cars2.iloc[1] #index bo'yicha murojat qilish"
      ],
      "metadata": {
        "id": "iB5Pzq_m2rHY"
      },
      "execution_count": null,
      "outputs": []
    },
    {
      "cell_type": "code",
      "source": [
        "cars2.loc['Honda'] #label bo'yicha murojat qilish"
      ],
      "metadata": {
        "id": "m62AeAa23VCA"
      },
      "execution_count": null,
      "outputs": []
    }
  ]
}