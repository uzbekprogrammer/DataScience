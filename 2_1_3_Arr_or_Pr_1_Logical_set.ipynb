{
  "nbformat": 4,
  "nbformat_minor": 0,
  "metadata": {
    "colab": {
      "private_outputs": true,
      "provenance": [],
      "authorship_tag": "ABX9TyMAx27xncv/H2urWPOMZQer",
      "include_colab_link": true
    },
    "kernelspec": {
      "name": "python3",
      "display_name": "Python 3"
    },
    "language_info": {
      "name": "python"
    }
  },
  "cells": [
    {
      "cell_type": "markdown",
      "metadata": {
        "id": "view-in-github",
        "colab_type": "text"
      },
      "source": [
        "<a href=\"https://colab.research.google.com/github/uzbekprogrammer/DataScience/blob/main/2_1_3_Arr_or_Pr_1_Logical_set.ipynb\" target=\"_parent\"><img src=\"https://colab.research.google.com/assets/colab-badge.svg\" alt=\"Open In Colab\"/></a>"
      ]
    },
    {
      "cell_type": "markdown",
      "source": [
        "# Data Science va Sun'iy Intellekt Praktikum\n",
        "\n",
        "## Ma'lumotlar tahlili.\n",
        "## 2.1. NumPy kutubxonasi bilan ishlash"
      ],
      "metadata": {
        "id": "j-XRwCNPvJjI"
      }
    },
    {
      "cell_type": "markdown",
      "source": [
        "### NumPy kutubxonasini chaqirib olish"
      ],
      "metadata": {
        "id": "w3wU3IEuvMCF"
      }
    },
    {
      "cell_type": "code",
      "execution_count": null,
      "metadata": {
        "id": "wl09SK2E08eB"
      },
      "outputs": [],
      "source": [
        "import numpy as np"
      ]
    },
    {
      "cell_type": "markdown",
      "source": [
        "### Shart operatori sifatida `where` dan foydalanish"
      ],
      "metadata": {
        "id": "fDjZasNUveNP"
      }
    },
    {
      "cell_type": "markdown",
      "source": [
        "### Tassavur qiling bizda ikkita ma'lumotlar (massivlar) mavjud bular: `xarr` va `yarr`. Agarda shart `True`ni qanoatlantirsa `xarr` elementini qabul qilgan aksincha esa `yarr` elementini qabul qilgan yangi massiv hosil qilinsin."
      ],
      "metadata": {
        "id": "UgyowNCxvgNP"
      }
    },
    {
      "cell_type": "code",
      "source": [
        "# Massivlar\n",
        "xarr = np.array([1.1,1.2,1.3,1.4,1.5])\n",
        "yarr = np.array([2.1,2.2,2.3,2.4,2.5])"
      ],
      "metadata": {
        "id": "B0AQ-UZh1Hj9"
      },
      "execution_count": null,
      "outputs": []
    },
    {
      "cell_type": "code",
      "source": [
        "# Shart\n",
        "cond = np.array([True,False,True,True,False])"
      ],
      "metadata": {
        "id": "OatXi0lO1f1W"
      },
      "execution_count": null,
      "outputs": []
    },
    {
      "cell_type": "code",
      "source": [
        "# where\n",
        "result = np.where(cond,xarr,yarr) # cond == True: xarr elementi, cond==False: yarr elementi olinadi\n",
        "result"
      ],
      "metadata": {
        "id": "i0S-nsBD1sVg"
      },
      "execution_count": null,
      "outputs": []
    },
    {
      "cell_type": "code",
      "source": [
        "arr = np.random.randn(4,4) # (4,4) taxminiy massiv\n",
        "arr"
      ],
      "metadata": {
        "id": "ayRU-T542JKt"
      },
      "execution_count": null,
      "outputs": []
    },
    {
      "cell_type": "code",
      "source": [
        "results = np.where(arr<0,0,1) #arr ning manfiy elementlarini -2 ga musbatlarini esa 2 ga almashtirib qoyamiz\n",
        "results"
      ],
      "metadata": {
        "id": "0GaFikIg3SqV"
      },
      "execution_count": null,
      "outputs": []
    },
    {
      "cell_type": "code",
      "source": [
        "arr1 = np.random.randn(4,4)\n",
        "arr1"
      ],
      "metadata": {
        "id": "HwMiMG0h3nBD"
      },
      "execution_count": null,
      "outputs": []
    },
    {
      "cell_type": "code",
      "source": [
        "arr2 = np.random.randn(4,4)\n",
        "arr2"
      ],
      "metadata": {
        "id": "GlpXs3fUfwQ8"
      },
      "execution_count": null,
      "outputs": []
    },
    {
      "cell_type": "code",
      "source": [
        "result1 = np.where(arr1>arr2,arr1,arr2)\n",
        "result1"
      ],
      "metadata": {
        "id": "oPCHsl_9f2ar"
      },
      "execution_count": null,
      "outputs": []
    },
    {
      "cell_type": "code",
      "source": [
        "np.where(0>result1,0,1)"
      ],
      "metadata": {
        "id": "fHoTrYnfgBa9"
      },
      "execution_count": null,
      "outputs": []
    },
    {
      "cell_type": "code",
      "source": [
        "arr = np.random.randn(4,4)\n",
        "arr"
      ],
      "metadata": {
        "id": "LYT12VZjgliU"
      },
      "execution_count": null,
      "outputs": []
    },
    {
      "cell_type": "code",
      "source": [
        "res = np.where(arr<0, 0, 1) # manfiy qiymatni 0ga musbbat qiymatni 1ga almashtirib beradi\n",
        "res"
      ],
      "metadata": {
        "id": "rDzcB_DE1evR"
      },
      "execution_count": null,
      "outputs": []
    }
  ]
}