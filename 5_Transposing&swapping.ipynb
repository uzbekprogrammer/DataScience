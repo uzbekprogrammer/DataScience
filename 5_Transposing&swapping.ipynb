{
  "nbformat": 4,
  "nbformat_minor": 0,
  "metadata": {
    "colab": {
      "name": "5_Transposing&swapping.ipynb",
      "private_outputs": true,
      "provenance": [],
      "authorship_tag": "ABX9TyOEuWFp8mFf+SYwac/wIost",
      "include_colab_link": true
    },
    "kernelspec": {
      "name": "python3",
      "display_name": "Python 3"
    },
    "language_info": {
      "name": "python"
    }
  },
  "cells": [
    {
      "cell_type": "markdown",
      "metadata": {
        "id": "view-in-github",
        "colab_type": "text"
      },
      "source": [
        "<a href=\"https://colab.research.google.com/github/uzbekprogrammer/DataScience/blob/main/5_Transposing%26swapping.ipynb\" target=\"_parent\"><img src=\"https://colab.research.google.com/assets/colab-badge.svg\" alt=\"Open In Colab\"/></a>"
      ]
    },
    {
      "cell_type": "code",
      "execution_count": null,
      "metadata": {
        "id": "tsndMjAV0IDq"
      },
      "outputs": [],
      "source": [
        "import numpy as np"
      ]
    },
    {
      "cell_type": "code",
      "source": [
        "a = np.arange(6).reshape(3,2) #a massiv elementlari 0 dan 6 gacha shape(3,2)\n",
        "a"
      ],
      "metadata": {
        "id": "Bofz0VYT1Fvf"
      },
      "execution_count": null,
      "outputs": []
    },
    {
      "cell_type": "markdown",
      "source": [
        "### `Transpose` metodi"
      ],
      "metadata": {
        "id": "8QUM0NXW2HX_"
      }
    },
    {
      "cell_type": "code",
      "source": [
        "a.T # a massivining Transpose ko'rinishini beradi"
      ],
      "metadata": {
        "id": "hLZlqtFV1S19"
      },
      "execution_count": null,
      "outputs": []
    },
    {
      "cell_type": "markdown",
      "source": [
        "### `swaping axes`"
      ],
      "metadata": {
        "id": "CMUVjJjE2EJV"
      }
    },
    {
      "cell_type": "code",
      "source": [
        "a.swapaxes(1,0)"
      ],
      "metadata": {
        "id": "PPeeNX2B1pxh"
      },
      "execution_count": null,
      "outputs": []
    },
    {
      "cell_type": "markdown",
      "source": [
        "### `Tranpose`ning ishlatilinishiga bir misol $A A^T$"
      ],
      "metadata": {
        "id": "whSNUdJB43k1"
      }
    },
    {
      "cell_type": "code",
      "source": [
        "np.dot(a,a.T) # aa^T hosil bolgan massiv"
      ],
      "metadata": {
        "id": "_lvwyJCn4hHW"
      },
      "execution_count": null,
      "outputs": []
    }
  ]
}