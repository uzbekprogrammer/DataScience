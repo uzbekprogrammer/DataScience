{
  "nbformat": 4,
  "nbformat_minor": 0,
  "metadata": {
    "colab": {
      "name": "3_indexing&slicing.ipynb",
      "private_outputs": true,
      "provenance": [],
      "authorship_tag": "ABX9TyNRM0z7zTGHGuSutFwe6cWa",
      "include_colab_link": true
    },
    "kernelspec": {
      "name": "python3",
      "display_name": "Python 3"
    },
    "language_info": {
      "name": "python"
    }
  },
  "cells": [
    {
      "cell_type": "markdown",
      "metadata": {
        "id": "view-in-github",
        "colab_type": "text"
      },
      "source": [
        "<a href=\"https://colab.research.google.com/github/uzbekprogrammer/DataScience/blob/main/3_indexing%26slicing.ipynb\" target=\"_parent\"><img src=\"https://colab.research.google.com/assets/colab-badge.svg\" alt=\"Open In Colab\"/></a>"
      ]
    },
    {
      "cell_type": "code",
      "source": [
        "import numpy as np"
      ],
      "metadata": {
        "id": "pD57cehMw6rQ"
      },
      "execution_count": null,
      "outputs": []
    },
    {
      "cell_type": "code",
      "execution_count": null,
      "metadata": {
        "id": "th7a-a5gwhdK"
      },
      "outputs": [],
      "source": [
        "arr = np.arange(10,100,10) # range numpydagi korinishi\n",
        "arr"
      ]
    },
    {
      "cell_type": "code",
      "source": [
        "sliced_arr = arr[3:5]\n",
        "sliced_arr[:]=0"
      ],
      "metadata": {
        "id": "Cb39WZEC_qVt"
      },
      "execution_count": null,
      "outputs": []
    },
    {
      "cell_type": "code",
      "source": [
        "sliced_arr"
      ],
      "metadata": {
        "id": "QqeVyBqsw8GY"
      },
      "execution_count": null,
      "outputs": []
    },
    {
      "cell_type": "code",
      "source": [
        "arr"
      ],
      "metadata": {
        "id": "IjP8bpDdxHRO"
      },
      "execution_count": null,
      "outputs": []
    },
    {
      "cell_type": "code",
      "source": [
        "arr1 = np.arange(10,100,10)\n",
        "arr1"
      ],
      "metadata": {
        "id": "SgPtMHHDA6z4"
      },
      "execution_count": null,
      "outputs": []
    },
    {
      "cell_type": "code",
      "source": [
        "sliced_arr1 = arr1[3:5].copy()\n",
        "sliced_arr1[:] = 0\n",
        "sliced_arr1"
      ],
      "metadata": {
        "id": "ufv5zv6MBImq"
      },
      "execution_count": null,
      "outputs": []
    },
    {
      "cell_type": "code",
      "source": [
        "arr1"
      ],
      "metadata": {
        "id": "ZZn6jonfBWmL"
      },
      "execution_count": null,
      "outputs": []
    },
    {
      "cell_type": "code",
      "source": [
        "arr1.ndim"
      ],
      "metadata": {
        "id": "OQQCY_rnBhoB"
      },
      "execution_count": null,
      "outputs": []
    },
    {
      "cell_type": "code",
      "source": [
        "arr2d = np.array([[1,2,3],[4,5,6],[7,8,9]])\n",
        "arr2d"
      ],
      "metadata": {
        "id": "XJOvpzhOCpih"
      },
      "execution_count": null,
      "outputs": []
    },
    {
      "cell_type": "code",
      "source": [
        "arr2d[1,1]"
      ],
      "metadata": {
        "id": "10NADwYafXTE"
      },
      "execution_count": null,
      "outputs": []
    },
    {
      "cell_type": "code",
      "source": [
        "arr2d[2,2]"
      ],
      "metadata": {
        "id": "7kGzEWLtfmmd"
      },
      "execution_count": null,
      "outputs": []
    },
    {
      "cell_type": "code",
      "source": [
        "sl_arr2d = arr2d[2,1:3] #Kesib olish\n",
        "sl_arr2d"
      ],
      "metadata": {
        "id": "Bpek2X5Afspx"
      },
      "execution_count": null,
      "outputs": []
    },
    {
      "cell_type": "code",
      "source": [
        "slice_1 = arr2d[:2,1:]\n",
        "slice_1"
      ],
      "metadata": {
        "id": "Ekc-6VcwgR-Z"
      },
      "execution_count": null,
      "outputs": []
    },
    {
      "cell_type": "code",
      "source": [
        "slice_2 = arr2d[2,:]\n",
        "slice_2"
      ],
      "metadata": {
        "id": "Sj0vfKpFgz7x"
      },
      "execution_count": null,
      "outputs": []
    },
    {
      "cell_type": "code",
      "source": [
        "# 3D array\n",
        "arr3d = np.array([[[ 0,  1,  2],\n",
        "                   [ 3,  4,  5],\n",
        "                   [ 6,  7,  8]],\n",
        "\n",
        "                  [[ 9, 10, 11],\n",
        "                   [12, 13, 14],\n",
        "                   [15, 16, 17]],\n",
        "\n",
        "                  [[18, 19, 20],\n",
        "                   [21, 22, 23],\n",
        "                   [24, 25, 26]]])\n",
        "arr3d"
      ],
      "metadata": {
        "id": "S1Z75ARZg-Q7"
      },
      "execution_count": null,
      "outputs": []
    },
    {
      "cell_type": "code",
      "source": [
        ""
      ],
      "metadata": {
        "id": "Na0ruQ-9ix6T"
      },
      "execution_count": null,
      "outputs": []
    }
  ]
}