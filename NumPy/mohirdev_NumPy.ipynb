{
  "cells": [
    {
      "cell_type": "markdown",
      "metadata": {
        "id": "view-in-github",
        "colab_type": "text"
      },
      "source": [
        "<a href=\"https://colab.research.google.com/github/uzbekprogrammer/DataScience/blob/main/NumPy/mohirdev_NumPy.ipynb\" target=\"_parent\"><img src=\"https://colab.research.google.com/assets/colab-badge.svg\" alt=\"Open In Colab\"/></a>"
      ]
    },
    {
      "cell_type": "markdown",
      "id": "bf79c78b",
      "metadata": {
        "id": "bf79c78b"
      },
      "source": [
        "# NumPy kutubxonasiga doir bilimlaringizni mustaxkamlash uchun mashqlar\n",
        "\n",
        "Hurmatli o'quvchi, bilimingizni yanada mustaxkamlashingiz va chuqurroq ko'nikmalarga ega bo'lishingiz uchun sizga topshiriqlar tayyorladik. Sizga yengillik yaratish maqsadida topshiriqni aynan qanday funksiyalar yordamida amalga oshirishingiz mumkin ekanini\n",
        " `💡Ishora` ko'rinishida yozdik!"
      ]
    },
    {
      "cell_type": "markdown",
      "id": "017db353",
      "metadata": {
        "id": "017db353"
      },
      "source": [
        "#### 1. NumPy kutubxonasini `np` nomi ostida yuklang va numpy kutubxonasini chop eting.\n",
        "\n",
        "versiya va konfiguratsiyani tekshiring.\n"
      ]
    },
    {
      "cell_type": "markdown",
      "source": [
        "`💡Ishora` import … as` and `np.__version__, np.show_config"
      ],
      "metadata": {
        "id": "e28779fe"
      },
      "id": "e28779fe"
    },
    {
      "cell_type": "code",
      "source": [
        "import numpy as np"
      ],
      "metadata": {
        "id": "_pCbn1ieI3u9"
      },
      "id": "_pCbn1ieI3u9",
      "execution_count": 56,
      "outputs": []
    },
    {
      "cell_type": "markdown",
      "id": "46950f4f",
      "metadata": {
        "id": "46950f4f"
      },
      "source": [
        "#### 2. Raqamli qiymatlar ro'yxatini bir o'lchovli NumPy massiviga aylantiring!"
      ]
    },
    {
      "cell_type": "markdown",
      "source": [
        "`💡Ishora` numpy.array"
      ],
      "metadata": {
        "id": "9b0e875f"
      },
      "id": "9b0e875f"
    },
    {
      "cell_type": "code",
      "source": [
        "arr = np.array([5,3,2,4,6,8,9,42,4])"
      ],
      "metadata": {
        "id": "dgnzjeT3JCi4"
      },
      "id": "dgnzjeT3JCi4",
      "execution_count": 57,
      "outputs": []
    },
    {
      "cell_type": "markdown",
      "id": "e3c20b3d",
      "metadata": {
        "id": "e3c20b3d"
      },
      "source": [
        "#### 3. Qiymatlari noldan iborat bo'lgan to'qqiz o'lchovli massiv yarating.\n",
        "\n"
      ]
    },
    {
      "cell_type": "markdown",
      "source": [
        "`💡Ishora` np.zeros"
      ],
      "metadata": {
        "id": "96d0b63e"
      },
      "id": "96d0b63e"
    },
    {
      "cell_type": "code",
      "source": [
        "array = np.zeros(9)\n",
        "array"
      ],
      "metadata": {
        "colab": {
          "base_uri": "https://localhost:8080/"
        },
        "id": "AVt4x-hwmfii",
        "outputId": "4acb9bdc-d29c-48ce-fdd1-8e8c5f5dea26"
      },
      "id": "AVt4x-hwmfii",
      "execution_count": 58,
      "outputs": [
        {
          "output_type": "execute_result",
          "data": {
            "text/plain": [
              "array([0., 0., 0., 0., 0., 0., 0., 0., 0.])"
            ]
          },
          "metadata": {},
          "execution_count": 58
        }
      ]
    },
    {
      "cell_type": "markdown",
      "id": "b15a879f",
      "metadata": {
        "id": "b15a879f"
      },
      "source": [
        "#### 4. Massiv yarating va uning xotira hajmini toping.\n",
        "\n"
      ]
    },
    {
      "cell_type": "markdown",
      "source": [
        "`💡Ishora` size, itemsize"
      ],
      "metadata": {
        "id": "32f9025c"
      },
      "id": "32f9025c"
    },
    {
      "cell_type": "code",
      "source": [
        "array4 = np.arange(100)\n",
        "print(array4.size) # Nechta elementdan tashkil topganligi\n",
        "print(array4.itemsize) #elementlarni bayt elementini ifodalaydi"
      ],
      "metadata": {
        "id": "MZxcJM_oJOTs",
        "colab": {
          "base_uri": "https://localhost:8080/"
        },
        "outputId": "bcdc9d1e-380a-451e-fa9e-9793f81f6f4b"
      },
      "id": "MZxcJM_oJOTs",
      "execution_count": 59,
      "outputs": [
        {
          "output_type": "stream",
          "name": "stdout",
          "text": [
            "100\n",
            "8\n"
          ]
        }
      ]
    },
    {
      "cell_type": "markdown",
      "id": "0a708990",
      "metadata": {
        "id": "0a708990"
      },
      "source": [
        "\n",
        "\n",
        "```\n",
        "# This is formatted as code\n",
        "```\n",
        "\n",
        "#### 5. NumPy kutubxonasidagi add funksiyasi hujjatlarini buyruq satridan qanday olishi mumkin?\n"
      ]
    },
    {
      "cell_type": "markdown",
      "source": [
        "`💡Ishora` np.info"
      ],
      "metadata": {
        "id": "d254eea5"
      },
      "id": "d254eea5"
    },
    {
      "cell_type": "code",
      "source": [
        "np.info(np.add)"
      ],
      "metadata": {
        "id": "m7nA_vYsJVUi",
        "colab": {
          "base_uri": "https://localhost:8080/"
        },
        "outputId": "5b7507e5-5105-4336-e787-1f2cc204e371"
      },
      "id": "m7nA_vYsJVUi",
      "execution_count": 60,
      "outputs": [
        {
          "output_type": "stream",
          "name": "stdout",
          "text": [
            "add(x1, x2, /, out=None, *, where=True, casting='same_kind', order='K', dtype=None, subok=True[, signature, extobj])\n",
            "\n",
            "Add arguments element-wise.\n",
            "\n",
            "Parameters\n",
            "----------\n",
            "x1, x2 : array_like\n",
            "    The arrays to be added.\n",
            "    If ``x1.shape != x2.shape``, they must be broadcastable to a common\n",
            "    shape (which becomes the shape of the output).\n",
            "out : ndarray, None, or tuple of ndarray and None, optional\n",
            "    A location into which the result is stored. If provided, it must have\n",
            "    a shape that the inputs broadcast to. If not provided or None,\n",
            "    a freshly-allocated array is returned. A tuple (possible only as a\n",
            "    keyword argument) must have length equal to the number of outputs.\n",
            "where : array_like, optional\n",
            "    This condition is broadcast over the input. At locations where the\n",
            "    condition is True, the `out` array will be set to the ufunc result.\n",
            "    Elsewhere, the `out` array will retain its original value.\n",
            "    Note that if an uninitialized `out` array is created via the default\n",
            "    ``out=None``, locations within it where the condition is False will\n",
            "    remain uninitialized.\n",
            "**kwargs\n",
            "    For other keyword-only arguments, see the\n",
            "    :ref:`ufunc docs <ufuncs.kwargs>`.\n",
            "\n",
            "Returns\n",
            "-------\n",
            "add : ndarray or scalar\n",
            "    The sum of `x1` and `x2`, element-wise.\n",
            "    This is a scalar if both `x1` and `x2` are scalars.\n",
            "\n",
            "Notes\n",
            "-----\n",
            "Equivalent to `x1` + `x2` in terms of array broadcasting.\n",
            "\n",
            "Examples\n",
            "--------\n",
            ">>> np.add(1.0, 4.0)\n",
            "5.0\n",
            ">>> x1 = np.arange(9.0).reshape((3, 3))\n",
            ">>> x2 = np.arange(3.0)\n",
            ">>> np.add(x1, x2)\n",
            "array([[  0.,   2.,   4.],\n",
            "       [  3.,   5.,   7.],\n",
            "       [  6.,   8.,  10.]])\n",
            "\n",
            "The ``+`` operator can be used as a shorthand for ``np.add`` on ndarrays.\n",
            "\n",
            ">>> x1 = np.arange(9.0).reshape((3, 3))\n",
            ">>> x2 = np.arange(3.0)\n",
            ">>> x1 + x2\n",
            "array([[ 0.,  2.,  4.],\n",
            "       [ 3.,  5.,  7.],\n",
            "       [ 6.,  8., 10.]])\n"
          ]
        }
      ]
    },
    {
      "cell_type": "markdown",
      "id": "0b16cd77",
      "metadata": {
        "id": "0b16cd77"
      },
      "source": [
        "#### 6. Shunday vekor yaratingki u o'n ikki o'lchamda va qiymatlari noldan iborat bo'lsin, lekin vektorning oltinchi qiymati 1 ga teng bo'lsin.\n",
        "\n"
      ]
    },
    {
      "cell_type": "markdown",
      "source": [
        "`💡Ishora` array[12]"
      ],
      "metadata": {
        "id": "05223560"
      },
      "id": "05223560"
    },
    {
      "cell_type": "code",
      "source": [
        "vector = np.zeros(12)\n",
        "\n",
        "vector[5] = 1\n",
        "vector"
      ],
      "metadata": {
        "id": "UJfYDNQoJc7M",
        "colab": {
          "base_uri": "https://localhost:8080/"
        },
        "outputId": "b48d05d0-d4a8-491f-af3b-73010a12957d"
      },
      "id": "UJfYDNQoJc7M",
      "execution_count": 61,
      "outputs": [
        {
          "output_type": "execute_result",
          "data": {
            "text/plain": [
              "array([0., 0., 0., 0., 0., 1., 0., 0., 0., 0., 0., 0.])"
            ]
          },
          "metadata": {},
          "execution_count": 61
        }
      ]
    },
    {
      "cell_type": "markdown",
      "id": "782d4c77",
      "metadata": {
        "id": "782d4c77"
      },
      "source": [
        "#### 7. Qiymatlari 20 dan 59 gacha bo'lgan vektor yarating.\n",
        "\n"
      ]
    },
    {
      "cell_type": "markdown",
      "source": [
        "`💡Ishora` arange"
      ],
      "metadata": {
        "id": "7250d114"
      },
      "id": "7250d114"
    },
    {
      "cell_type": "code",
      "source": [
        "arr7 = np.arange(20,60)\n",
        "arr7"
      ],
      "metadata": {
        "id": "fSaWkGakJhwz",
        "colab": {
          "base_uri": "https://localhost:8080/"
        },
        "outputId": "64701f81-a289-4046-e8db-d2761db5ec97"
      },
      "id": "fSaWkGakJhwz",
      "execution_count": 62,
      "outputs": [
        {
          "output_type": "execute_result",
          "data": {
            "text/plain": [
              "array([20, 21, 22, 23, 24, 25, 26, 27, 28, 29, 30, 31, 32, 33, 34, 35, 36,\n",
              "       37, 38, 39, 40, 41, 42, 43, 44, 45, 46, 47, 48, 49, 50, 51, 52, 53,\n",
              "       54, 55, 56, 57, 58, 59])"
            ]
          },
          "metadata": {},
          "execution_count": 62
        }
      ]
    },
    {
      "cell_type": "markdown",
      "id": "48d48f01",
      "metadata": {
        "id": "48d48f01"
      },
      "source": [
        "#### 8. Vektor yarating va uni teskari o'zgartiring\n",
        "(birinchi element oxirgisi bo'lsin)\n",
        "\n"
      ]
    },
    {
      "cell_type": "markdown",
      "source": [
        "`💡Ishora` array[::-1]"
      ],
      "metadata": {
        "id": "fb702ae0"
      },
      "id": "fb702ae0"
    },
    {
      "cell_type": "code",
      "source": [
        "arr8 = np.arange(20)\n",
        "print(arr8)\n",
        "print(arr8[::-1])"
      ],
      "metadata": {
        "id": "GCP6vp_WJrON",
        "colab": {
          "base_uri": "https://localhost:8080/"
        },
        "outputId": "03f22641-a6ee-4b09-e238-cd16f0e6f323"
      },
      "id": "GCP6vp_WJrON",
      "execution_count": 63,
      "outputs": [
        {
          "output_type": "stream",
          "name": "stdout",
          "text": [
            "[ 0  1  2  3  4  5  6  7  8  9 10 11 12 13 14 15 16 17 18 19]\n",
            "[19 18 17 16 15 14 13 12 11 10  9  8  7  6  5  4  3  2  1  0]\n"
          ]
        }
      ]
    },
    {
      "cell_type": "markdown",
      "id": "4fa39382",
      "metadata": {
        "id": "4fa39382"
      },
      "source": [
        "#### 9. 12 dan 20 gacha bo'lgan qiymatlarga ega 3x3 matritsa yarating.\n"
      ]
    },
    {
      "cell_type": "markdown",
      "source": [
        "`💡Ishora` reshape"
      ],
      "metadata": {
        "id": "97e6be92"
      },
      "id": "97e6be92"
    },
    {
      "cell_type": "code",
      "source": [
        "arr9 = np.arange(12,21).reshape(3,3)\n",
        "arr9"
      ],
      "metadata": {
        "id": "Ve7gEGjuJxxw",
        "colab": {
          "base_uri": "https://localhost:8080/"
        },
        "outputId": "bf94b329-6f4a-40ef-f4ee-23cf32920344"
      },
      "id": "Ve7gEGjuJxxw",
      "execution_count": 64,
      "outputs": [
        {
          "output_type": "execute_result",
          "data": {
            "text/plain": [
              "array([[12, 13, 14],\n",
              "       [15, 16, 17],\n",
              "       [18, 19, 20]])"
            ]
          },
          "metadata": {},
          "execution_count": 64
        }
      ]
    },
    {
      "cell_type": "markdown",
      "id": "da64551a",
      "metadata": {
        "id": "da64551a"
      },
      "source": [
        "#### 10. Quyidagi matritsadan foydalanib nolga teng bo'lmagan elementlarning indekslarini toping.\n",
        "[3, 7, 0, 0, 9, 0]\n",
        "\n",
        "\n",
        "\n"
      ]
    },
    {
      "cell_type": "markdown",
      "source": [
        "`💡Ishora` np.nonzero"
      ],
      "metadata": {
        "id": "322b2b68"
      },
      "id": "322b2b68"
    },
    {
      "cell_type": "code",
      "source": [
        "arr10 = [3, 7, 0, 0, 9, 0]\n",
        "np.nonzero(arr10)"
      ],
      "metadata": {
        "id": "fNIuSyBaJ4OP",
        "colab": {
          "base_uri": "https://localhost:8080/"
        },
        "outputId": "4583ad6a-1132-49e8-e6b1-8586971627b8"
      },
      "id": "fNIuSyBaJ4OP",
      "execution_count": 65,
      "outputs": [
        {
          "output_type": "execute_result",
          "data": {
            "text/plain": [
              "(array([0, 1, 4]),)"
            ]
          },
          "metadata": {},
          "execution_count": 65
        }
      ]
    },
    {
      "cell_type": "markdown",
      "id": "f89d9c9e",
      "metadata": {
        "id": "f89d9c9e"
      },
      "source": [
        "#### 11. Tasodifiy qiymatlar bilan 2x2x2 o'lchovidagi massiv yarating.\n"
      ]
    },
    {
      "cell_type": "markdown",
      "source": [
        "`💡Ishora` np.random.random"
      ],
      "metadata": {
        "id": "5717e1c1"
      },
      "id": "5717e1c1"
    },
    {
      "cell_type": "code",
      "source": [
        "arr11 = np.random.random(8).reshape(2,2,2)\n",
        "arr11"
      ],
      "metadata": {
        "id": "bHloeqHOKuiX",
        "colab": {
          "base_uri": "https://localhost:8080/"
        },
        "outputId": "67ccd6b6-39a8-4120-a5e7-abdff1e5c88c"
      },
      "id": "bHloeqHOKuiX",
      "execution_count": 66,
      "outputs": [
        {
          "output_type": "execute_result",
          "data": {
            "text/plain": [
              "array([[[0.05677815, 0.14251918],\n",
              "        [0.42974462, 0.88712245]],\n",
              "\n",
              "       [[0.94426184, 0.48604362],\n",
              "        [0.65161303, 0.34377275]]])"
            ]
          },
          "metadata": {},
          "execution_count": 66
        }
      ]
    },
    {
      "cell_type": "markdown",
      "id": "13c5928c",
      "metadata": {
        "id": "13c5928c"
      },
      "source": [
        "#### 12. Tasodifiy sonlardan tashkil topgan 9X9 o'lchamidagi massiv yarating. So'ng uning eng katta va eng kichik qiymatlarini toping\n"
      ]
    },
    {
      "cell_type": "markdown",
      "source": [
        "`💡Ishora` min, max"
      ],
      "metadata": {
        "id": "0ede4d26"
      },
      "id": "0ede4d26"
    },
    {
      "cell_type": "code",
      "source": [
        "arr12 = np.random.random(81).reshape(9,9)\n",
        "print(arr12)"
      ],
      "metadata": {
        "id": "OJiVa5K9LJyb",
        "colab": {
          "base_uri": "https://localhost:8080/"
        },
        "outputId": "29f85d23-4a80-4737-d45f-703737a6665f"
      },
      "id": "OJiVa5K9LJyb",
      "execution_count": 67,
      "outputs": [
        {
          "output_type": "stream",
          "name": "stdout",
          "text": [
            "[[0.94303963 0.06301416 0.36438958 0.53138218 0.20834641 0.43038021\n",
            "  0.35624455 0.60629385 0.02576489]\n",
            " [0.83390936 0.54846444 0.92574069 0.66760206 0.18681648 0.57268246\n",
            "  0.40176061 0.49785913 0.45315176]\n",
            " [0.39122304 0.52935623 0.10228342 0.11279827 0.54834357 0.15156353\n",
            "  0.66635031 0.66855542 0.4374216 ]\n",
            " [0.82538442 0.98676828 0.42316686 0.9473986  0.21154223 0.87626748\n",
            "  0.8856937  0.85761778 0.30767455]\n",
            " [0.56655497 0.89974464 0.288768   0.08221808 0.81104623 0.22868856\n",
            "  0.14046693 0.11460401 0.995777  ]\n",
            " [0.08593909 0.62386757 0.06862757 0.87204173 0.62732623 0.66832768\n",
            "  0.50838932 0.16243156 0.73508685]\n",
            " [0.47237417 0.629171   0.6661675  0.07106096 0.13535628 0.74174772\n",
            "  0.12507775 0.78173794 0.76572979]\n",
            " [0.35400487 0.16891452 0.08699234 0.32305895 0.8967022  0.88249552\n",
            "  0.88440343 0.07804801 0.69349264]\n",
            " [0.25866112 0.9208426  0.36395005 0.52219579 0.7210329  0.44604069\n",
            "  0.84266614 0.37205293 0.2177496 ]]\n"
          ]
        }
      ]
    },
    {
      "cell_type": "code",
      "source": [
        "np.max(arr12) #eng katta qiymati"
      ],
      "metadata": {
        "colab": {
          "base_uri": "https://localhost:8080/"
        },
        "id": "TKh8OCbE3Bfl",
        "outputId": "37b0d53a-9073-4519-a6e5-7dfcf46cc78b"
      },
      "id": "TKh8OCbE3Bfl",
      "execution_count": 68,
      "outputs": [
        {
          "output_type": "execute_result",
          "data": {
            "text/plain": [
              "0.9957770045550796"
            ]
          },
          "metadata": {},
          "execution_count": 68
        }
      ]
    },
    {
      "cell_type": "code",
      "source": [
        "np.min(arr12) #eng kichik qiymati"
      ],
      "metadata": {
        "colab": {
          "base_uri": "https://localhost:8080/"
        },
        "id": "czxKOge83BDy",
        "outputId": "bd93882b-b138-4a83-99c7-c8a0738fb9f0"
      },
      "id": "czxKOge83BDy",
      "execution_count": 69,
      "outputs": [
        {
          "output_type": "execute_result",
          "data": {
            "text/plain": [
              "0.025764886427897427"
            ]
          },
          "metadata": {},
          "execution_count": 69
        }
      ]
    },
    {
      "cell_type": "markdown",
      "id": "3fa2e461",
      "metadata": {
        "id": "3fa2e461"
      },
      "source": [
        "#### 13. Quyidagi misol qanday natija beradi?\n",
        "\n",
        "\n",
        "```python\n",
        "0 * np.nan\n",
        "np.nan == np.nan\n",
        "np.inf > np.nan\n",
        "np.nan - np.nan\n",
        "np.nan in set([np.nan])\n",
        "0.7 == 7 * 0.1\n",
        "```\n"
      ]
    },
    {
      "cell_type": "markdown",
      "source": [
        "`💡Ishora` NaN = not a number, inf = infinity"
      ],
      "metadata": {
        "id": "c0048e59"
      },
      "id": "c0048e59"
    },
    {
      "cell_type": "code",
      "source": [
        "print(0 * np.nan)\n",
        "print(np.nan == np.nan)\n",
        "print(np.inf > np.nan)\n",
        "print(np.nan - np.nan)\n",
        "print(np.nan in set([np.nan]))\n",
        "print(0.7 == 7 * 0.1)"
      ],
      "metadata": {
        "id": "Thbqd_RCLf_e",
        "colab": {
          "base_uri": "https://localhost:8080/"
        },
        "outputId": "56cdd218-a1b4-442d-b3ab-d36b2ae09f09"
      },
      "id": "Thbqd_RCLf_e",
      "execution_count": 70,
      "outputs": [
        {
          "output_type": "stream",
          "name": "stdout",
          "text": [
            "nan\n",
            "False\n",
            "False\n",
            "nan\n",
            "True\n",
            "False\n"
          ]
        }
      ]
    },
    {
      "cell_type": "markdown",
      "id": "73f7a549",
      "metadata": {
        "id": "73f7a549"
      },
      "source": [
        "#### 14. O'lchamlari 6x3 va 3x4 bo'lgan martitsa yarating, so'ng ularning  ko'paytmasini hisoblang.\n",
        "\n"
      ]
    },
    {
      "cell_type": "markdown",
      "source": [
        "`💡Ishora` np.dot` or `np.ones"
      ],
      "metadata": {
        "id": "351ff928"
      },
      "id": "351ff928"
    },
    {
      "cell_type": "code",
      "source": [
        "x = np.random.randint(1,100,18).reshape(6,3)\n",
        "x"
      ],
      "metadata": {
        "id": "e_5QUFcPLtVX",
        "colab": {
          "base_uri": "https://localhost:8080/"
        },
        "outputId": "9ed6d5bc-81f0-4ed0-d35a-e2c217cd024b"
      },
      "id": "e_5QUFcPLtVX",
      "execution_count": 71,
      "outputs": [
        {
          "output_type": "execute_result",
          "data": {
            "text/plain": [
              "array([[48, 99, 40],\n",
              "       [98, 52, 43],\n",
              "       [92, 91, 25],\n",
              "       [16, 24, 24],\n",
              "       [66, 69, 29],\n",
              "       [43, 12, 43]])"
            ]
          },
          "metadata": {},
          "execution_count": 71
        }
      ]
    },
    {
      "cell_type": "code",
      "source": [
        "y = np.random.randint(1,100,12).reshape(3,4)\n",
        "y"
      ],
      "metadata": {
        "colab": {
          "base_uri": "https://localhost:8080/"
        },
        "id": "F_cvKGKY4onT",
        "outputId": "104557f2-1ec9-4a82-cce5-b493086acd51"
      },
      "id": "F_cvKGKY4onT",
      "execution_count": 72,
      "outputs": [
        {
          "output_type": "execute_result",
          "data": {
            "text/plain": [
              "array([[16, 78,  7, 39],\n",
              "       [66, 75, 82, 28],\n",
              "       [15,  2, 27, 20]])"
            ]
          },
          "metadata": {},
          "execution_count": 72
        }
      ]
    },
    {
      "cell_type": "code",
      "source": [
        "np.dot(x,y) #x va y matritsalarining ko'paytmasi"
      ],
      "metadata": {
        "colab": {
          "base_uri": "https://localhost:8080/"
        },
        "id": "BGV3o_L3494o",
        "outputId": "2ba6a013-4569-4e46-ab47-a40c4cf350a6"
      },
      "id": "BGV3o_L3494o",
      "execution_count": 73,
      "outputs": [
        {
          "output_type": "execute_result",
          "data": {
            "text/plain": [
              "array([[ 7902, 11249,  9534,  5444],\n",
              "       [ 5645, 11630,  6111,  6138],\n",
              "       [ 7853, 14051,  8781,  6636],\n",
              "       [ 2200,  3096,  2728,  1776],\n",
              "       [ 6045, 10381,  6903,  5086],\n",
              "       [ 2125,  4340,  2446,  2873]])"
            ]
          },
          "metadata": {},
          "execution_count": 73
        }
      ]
    },
    {
      "cell_type": "markdown",
      "id": "6d0c506f",
      "metadata": {
        "id": "6d0c506f"
      },
      "source": [
        "#### 15. Quyidagi misol qanday natija beradi?\n",
        "\n",
        "```python\n",
        "print(sum(range(5),-1))\n",
        "from numpy import *\n",
        "print(sum(range(5),-1))\n",
        "```"
      ]
    },
    {
      "cell_type": "code",
      "execution_count": 74,
      "id": "c1cc1143",
      "metadata": {
        "id": "c1cc1143",
        "colab": {
          "base_uri": "https://localhost:8080/"
        },
        "outputId": "3795e8df-818c-47e4-dc15-c68512f943ea"
      },
      "outputs": [
        {
          "output_type": "stream",
          "name": "stdout",
          "text": [
            "10\n",
            "10\n"
          ]
        }
      ],
      "source": [
        "print(sum(range(5),-1))\n",
        "from numpy import *\n",
        "print(sum(range(5),-1))"
      ]
    },
    {
      "cell_type": "markdown",
      "id": "d6ad1a9f",
      "metadata": {
        "id": "d6ad1a9f"
      },
      "source": [
        "#### 16. NumPy kutubxonasi yordamida ikkita massivni solishtiring va ular usida quyidagi amallarni bajaring.\n",
        "\n",
        "```python\n",
        "Array a: [1 2]\n",
        "Array b: [4 5]\n",
        "a > b\n",
        "[False False]\n",
        "a >= b\n",
        "[False False]\n",
        "a < b\n",
        "[ True True]\n",
        "a <= b\n",
        "[ True True]\n",
        "```"
      ]
    },
    {
      "cell_type": "code",
      "execution_count": 77,
      "id": "7ba3c441",
      "metadata": {
        "id": "7ba3c441",
        "colab": {
          "base_uri": "https://localhost:8080/"
        },
        "outputId": "cf92c0d7-ecbf-4d74-dc0e-8a5034e041ed"
      },
      "outputs": [
        {
          "output_type": "stream",
          "name": "stdout",
          "text": [
            "[7 9 8]\n",
            "[8 1 7]\n"
          ]
        }
      ],
      "source": [
        "xarr = np.random.randint(1,10,3)\n",
        "print(xarr)\n",
        "yarr = np.random.randint(1,10,3)\n",
        "print(yarr)"
      ]
    },
    {
      "cell_type": "code",
      "source": [
        "xarr > yarr"
      ],
      "metadata": {
        "colab": {
          "base_uri": "https://localhost:8080/"
        },
        "id": "zn2rGqv67FKm",
        "outputId": "9a8b7a2a-8ed2-43fb-de88-f723a4631ced"
      },
      "id": "zn2rGqv67FKm",
      "execution_count": 78,
      "outputs": [
        {
          "output_type": "execute_result",
          "data": {
            "text/plain": [
              "array([False,  True,  True])"
            ]
          },
          "metadata": {},
          "execution_count": 78
        }
      ]
    },
    {
      "cell_type": "code",
      "source": [
        "xarr >= yarr"
      ],
      "metadata": {
        "colab": {
          "base_uri": "https://localhost:8080/"
        },
        "id": "PRcl2Ybz7Jrh",
        "outputId": "88b97eaa-7a82-4feb-fbdc-8a0dedd9a929"
      },
      "id": "PRcl2Ybz7Jrh",
      "execution_count": 81,
      "outputs": [
        {
          "output_type": "execute_result",
          "data": {
            "text/plain": [
              "array([False,  True,  True])"
            ]
          },
          "metadata": {},
          "execution_count": 81
        }
      ]
    },
    {
      "cell_type": "code",
      "source": [
        "xarr < yarr"
      ],
      "metadata": {
        "colab": {
          "base_uri": "https://localhost:8080/"
        },
        "id": "iMaYbBf37POt",
        "outputId": "e9bcb772-3286-4b89-e343-0e96289a64d9"
      },
      "id": "iMaYbBf37POt",
      "execution_count": 82,
      "outputs": [
        {
          "output_type": "execute_result",
          "data": {
            "text/plain": [
              "array([ True, False, False])"
            ]
          },
          "metadata": {},
          "execution_count": 82
        }
      ]
    },
    {
      "cell_type": "code",
      "source": [
        "xarr <= yarr"
      ],
      "metadata": {
        "colab": {
          "base_uri": "https://localhost:8080/"
        },
        "id": "6nxbF9bt7T9e",
        "outputId": "ea6676db-81bc-4943-c10c-90c8c4a23db2"
      },
      "id": "6nxbF9bt7T9e",
      "execution_count": 83,
      "outputs": [
        {
          "output_type": "execute_result",
          "data": {
            "text/plain": [
              "array([ True, False, False])"
            ]
          },
          "metadata": {},
          "execution_count": 83
        }
      ]
    },
    {
      "cell_type": "markdown",
      "id": "e3a7ba7f",
      "metadata": {
        "id": "e3a7ba7f"
      },
      "source": [
        "#### 17. Quyidagi misol qanday natija beradi?\n",
        "\n",
        "```python\n",
        "np.array(0) / np.array(0)\n",
        "np.array(0) // np.array(0)\n",
        "np.array([np.nan]).astype(int).astype(float)\n",
        "```"
      ]
    },
    {
      "cell_type": "code",
      "execution_count": 84,
      "id": "b874734e",
      "metadata": {
        "id": "b874734e",
        "colab": {
          "base_uri": "https://localhost:8080/"
        },
        "outputId": "c545f35c-9126-4eb0-840d-5578eb79fcc0"
      },
      "outputs": [
        {
          "output_type": "stream",
          "name": "stderr",
          "text": [
            "<ipython-input-84-3585dcb7ab9b>:1: RuntimeWarning: invalid value encountered in divide\n",
            "  np.array(0) / np.array(0)\n"
          ]
        },
        {
          "output_type": "execute_result",
          "data": {
            "text/plain": [
              "nan"
            ]
          },
          "metadata": {},
          "execution_count": 84
        }
      ],
      "source": []
    },
    {
      "cell_type": "code",
      "source": [],
      "metadata": {
        "id": "PJEMHepe7dgv"
      },
      "id": "PJEMHepe7dgv",
      "execution_count": null,
      "outputs": []
    },
    {
      "cell_type": "markdown",
      "id": "6d17ab5d",
      "metadata": {
        "id": "6d17ab5d"
      },
      "source": [
        "#### 18. Ikkita massiv yarating va ular orasidagi umumiy qiymatlarni toping\n"
      ]
    },
    {
      "cell_type": "markdown",
      "source": [
        "`💡Ishora` np.intersect1d"
      ],
      "metadata": {
        "id": "4c4e2c5e"
      },
      "id": "4c4e2c5e"
    },
    {
      "cell_type": "code",
      "source": [],
      "metadata": {
        "id": "Dxz5P8WpMeAP"
      },
      "id": "Dxz5P8WpMeAP",
      "execution_count": 75,
      "outputs": []
    },
    {
      "cell_type": "markdown",
      "id": "8837119b",
      "metadata": {
        "id": "8837119b"
      },
      "source": [
        "#### 19. Tasodifiy sonlardan iborat bo'lgan massiv yarating, so'ng ularni quyida berilgan 4 xil usul yordamida musbat sonlarning butun qismini ajratib oling."
      ]
    },
    {
      "cell_type": "markdown",
      "source": [
        "`💡Ishora` %, np.floor, astype, np.trunc"
      ],
      "metadata": {
        "id": "2b05c544"
      },
      "id": "2b05c544"
    },
    {
      "cell_type": "code",
      "source": [],
      "metadata": {
        "id": "jc6wN5WWMpS3"
      },
      "id": "jc6wN5WWMpS3",
      "execution_count": 75,
      "outputs": []
    },
    {
      "cell_type": "markdown",
      "id": "ec788c9f",
      "metadata": {
        "id": "ec788c9f"
      },
      "source": [
        "#### 20. O'lchovlari 3x3 matritsa yarating, ularning qator qiymatlari 0 dan 2 gacha bo'lsin.\n",
        "\n"
      ]
    },
    {
      "cell_type": "markdown",
      "source": [
        "`💡Ishora` np.arange"
      ],
      "metadata": {
        "id": "c3980b2c"
      },
      "id": "c3980b2c"
    },
    {
      "cell_type": "code",
      "source": [],
      "metadata": {
        "id": "ycz3jw4bM0Xk"
      },
      "id": "ycz3jw4bM0Xk",
      "execution_count": 75,
      "outputs": []
    },
    {
      "cell_type": "markdown",
      "id": "391791e0",
      "metadata": {
        "id": "391791e0"
      },
      "source": [
        "#### 21. O'chamlari 10 bo'lgan tasodifiy vektor yarating va uni o'sish tartibida chiqaruvchi dastur tuzing.\n",
        "\n"
      ]
    },
    {
      "cell_type": "markdown",
      "source": [
        "`💡Ishora` sort"
      ],
      "metadata": {
        "id": "ada71c06"
      },
      "id": "ada71c06"
    },
    {
      "cell_type": "code",
      "source": [],
      "metadata": {
        "id": "TPMqaavROM7g"
      },
      "id": "TPMqaavROM7g",
      "execution_count": 75,
      "outputs": []
    },
    {
      "cell_type": "markdown",
      "id": "1e74d39e",
      "metadata": {
        "id": "1e74d39e"
      },
      "source": [
        "#### 22. Ikki tasodifiy A va B massiv yarating, ularning tengligini tekshiring"
      ]
    },
    {
      "cell_type": "markdown",
      "source": [
        "`💡Ishora` np.allclose, np.array_equal"
      ],
      "metadata": {
        "id": "eb0e066c"
      },
      "id": "eb0e066c"
    },
    {
      "cell_type": "code",
      "source": [],
      "metadata": {
        "id": "xHNWNZnwOT1r"
      },
      "id": "xHNWNZnwOT1r",
      "execution_count": 75,
      "outputs": []
    },
    {
      "cell_type": "markdown",
      "id": "78250c14",
      "metadata": {
        "id": "78250c14"
      },
      "source": [
        "#### 23. O'lchamlari 6x3 va 3x4 matritsa tuzing va ularni o'zaro ko'paytiring.\n"
      ]
    },
    {
      "cell_type": "markdown",
      "source": [
        "`💡Ishora` np.dot or np.ones"
      ],
      "metadata": {
        "id": "2e482afe"
      },
      "id": "2e482afe"
    },
    {
      "cell_type": "code",
      "source": [],
      "metadata": {
        "id": "ZRlMgdT9POgS"
      },
      "id": "ZRlMgdT9POgS",
      "execution_count": 75,
      "outputs": []
    },
    {
      "cell_type": "markdown",
      "id": "51898680",
      "metadata": {
        "id": "51898680"
      },
      "source": [
        "#### 24. Tasodifiy sonlardan iborat bo'lgan o'lchami 5 ga teng vektor yarating, so'ng uning eng katta qiymatini 0 ga o'zgartiring.\n"
      ]
    },
    {
      "cell_type": "markdown",
      "source": [
        "`💡Ishora` argmax"
      ],
      "metadata": {
        "id": "ee92ccaf"
      },
      "id": "ee92ccaf"
    },
    {
      "cell_type": "code",
      "source": [],
      "metadata": {
        "id": "v9DvyaTNPk_t"
      },
      "id": "v9DvyaTNPk_t",
      "execution_count": 75,
      "outputs": []
    },
    {
      "cell_type": "markdown",
      "id": "129c342d",
      "metadata": {
        "id": "129c342d"
      },
      "source": [
        "#### 25. NumPy kutubxonasi yordamida kecha, bugun va ertangi kun sanalarini aniqlang.\n"
      ]
    },
    {
      "cell_type": "markdown",
      "source": [
        "`💡Ishora` np.datetime64, np.timedelta64"
      ],
      "metadata": {
        "id": "0fd2f947"
      },
      "id": "0fd2f947"
    },
    {
      "cell_type": "code",
      "source": [],
      "metadata": {
        "id": "dlljRGxkSitd"
      },
      "id": "dlljRGxkSitd",
      "execution_count": 75,
      "outputs": []
    },
    {
      "cell_type": "markdown",
      "id": "42f8b2f9",
      "metadata": {
        "id": "42f8b2f9"
      },
      "source": [
        "#### 26. 2016 yil yanvar oyiga to'g'ri keladigan barcha sanalarni NumPy kutubxonasi yordamida aniqlang.\n"
      ]
    },
    {
      "cell_type": "markdown",
      "source": [
        "`💡Ishora` np.arange(dtype=datetime64['D'])"
      ],
      "metadata": {
        "id": "SU1BWcA8Sw2M"
      },
      "id": "SU1BWcA8Sw2M"
    },
    {
      "cell_type": "code",
      "execution_count": 75,
      "id": "5ad086b0",
      "metadata": {
        "id": "5ad086b0"
      },
      "outputs": [],
      "source": []
    },
    {
      "cell_type": "markdown",
      "id": "486df8ea",
      "metadata": {
        "id": "486df8ea"
      },
      "source": [
        "#### 27. 4 xil usul yordamida musbat sonlarning tasodifiy massivining butun son qismini ajratib oling.\n"
      ]
    },
    {
      "cell_type": "markdown",
      "source": [
        "`💡Ishora` %, np.floor, astype, np.trunc`"
      ],
      "metadata": {
        "id": "h4QM3bp9TDhb"
      },
      "id": "h4QM3bp9TDhb"
    },
    {
      "cell_type": "code",
      "execution_count": 75,
      "id": "2680c1ca",
      "metadata": {
        "id": "2680c1ca"
      },
      "outputs": [],
      "source": []
    },
    {
      "cell_type": "markdown",
      "id": "6415f02e",
      "metadata": {
        "id": "6415f02e"
      },
      "source": [
        "#### 28. Ixtiyoriy kichik massivlar yarating, ular yeg'indisini np.sum funksiyasidanda tezroq hisoblovchi dastur tuzing.\n"
      ]
    },
    {
      "cell_type": "markdown",
      "source": [
        "`💡Ishora` np.add.reduce"
      ],
      "metadata": {
        "id": "129e785f"
      },
      "id": "129e785f"
    },
    {
      "cell_type": "code",
      "source": [],
      "metadata": {
        "id": "M0Xv2bB9VYQZ"
      },
      "id": "M0Xv2bB9VYQZ",
      "execution_count": 75,
      "outputs": []
    },
    {
      "cell_type": "markdown",
      "id": "58be9dd4",
      "metadata": {
        "id": "58be9dd4"
      },
      "source": [
        "#### 29. [1, 2, 3, 4, 5] vektor berilgan, har bir qiymat orasiga ketma-ket 3 ta nol raqamini yozuvchi dastur tuzing.\n"
      ]
    },
    {
      "cell_type": "markdown",
      "source": [
        "`💡Ishora` array[::4]"
      ],
      "metadata": {
        "id": "9cf9e134"
      },
      "id": "9cf9e134"
    },
    {
      "cell_type": "code",
      "source": [],
      "metadata": {
        "id": "04IuJ2jaZeYu"
      },
      "id": "04IuJ2jaZeYu",
      "execution_count": 75,
      "outputs": []
    },
    {
      "cell_type": "markdown",
      "id": "781fa236",
      "metadata": {
        "id": "781fa236"
      },
      "source": [
        "#### 30. Quyidagi a massiv berilgan, a = [1,2,3,4,5,6,7,8,9,10,11,12,13,14] undan foydalangan holda siz quyidagi b massivni yarata olasizmi, b = [[1,2,3,4], [2,3,4,5], [3,4,5,6], ..., [11,12,13,14]]?\n"
      ]
    },
    {
      "cell_type": "markdown",
      "source": [
        "`💡Ishora` stride_tricks.as_strided"
      ],
      "metadata": {
        "id": "82e3d17e"
      },
      "id": "82e3d17e"
    },
    {
      "cell_type": "code",
      "source": [],
      "metadata": {
        "id": "S1H6ivCua3NZ"
      },
      "id": "S1H6ivCua3NZ",
      "execution_count": 75,
      "outputs": []
    },
    {
      "cell_type": "markdown",
      "id": "7d8dc135",
      "metadata": {
        "id": "7d8dc135"
      },
      "source": [
        "#### 31. Ixtiyoriy sonlardan tashkil topgan massiv yarating, unga o'xshash qiymatlar kiriting. So'ng, o'xshash qiymatlarni topuvchi dastur tuzing.\n"
      ]
    },
    {
      "cell_type": "markdown",
      "source": [
        "`💡Ishora` np.bincount, argmax"
      ],
      "metadata": {
        "id": "81844e99"
      },
      "id": "81844e99"
    },
    {
      "cell_type": "code",
      "source": [],
      "metadata": {
        "id": "SiRaNwxjbaQN"
      },
      "id": "SiRaNwxjbaQN",
      "execution_count": 75,
      "outputs": []
    },
    {
      "cell_type": "markdown",
      "source": [
        "#### BONUS!\n",
        "\n",
        "`💡O'zingiz javob berishni istagan savolni kiriting va unga javob bering!`"
      ],
      "metadata": {
        "id": "URzxwwODb0m_"
      },
      "id": "URzxwwODb0m_"
    },
    {
      "cell_type": "code",
      "source": [],
      "metadata": {
        "id": "9xpR0GVrbzuk"
      },
      "id": "9xpR0GVrbzuk",
      "execution_count": 75,
      "outputs": []
    }
  ],
  "metadata": {
    "hide_input": false,
    "kernelspec": {
      "display_name": "Python 3",
      "language": "python",
      "name": "python3"
    },
    "language_info": {
      "codemirror_mode": {
        "name": "ipython",
        "version": 3
      },
      "file_extension": ".py",
      "mimetype": "text/x-python",
      "name": "python",
      "nbconvert_exporter": "python",
      "pygments_lexer": "ipython3",
      "version": "3.8.8"
    },
    "toc": {
      "base_numbering": 1,
      "nav_menu": {},
      "number_sections": true,
      "sideBar": true,
      "skip_h1_title": false,
      "title_cell": "Table of Contents",
      "title_sidebar": "Contents",
      "toc_cell": false,
      "toc_position": {},
      "toc_section_display": true,
      "toc_window_display": false
    },
    "varInspector": {
      "cols": {
        "lenName": 16,
        "lenType": 16,
        "lenVar": 40
      },
      "kernels_config": {
        "python": {
          "delete_cmd_postfix": "",
          "delete_cmd_prefix": "del ",
          "library": "var_list.py",
          "varRefreshCmd": "print(var_dic_list())"
        },
        "r": {
          "delete_cmd_postfix": ") ",
          "delete_cmd_prefix": "rm(",
          "library": "var_list.r",
          "varRefreshCmd": "cat(var_dic_list()) "
        }
      },
      "types_to_exclude": [
        "module",
        "function",
        "builtin_function_or_method",
        "instance",
        "_Feature"
      ],
      "window_display": false
    },
    "colab": {
      "provenance": [],
      "include_colab_link": true
    }
  },
  "nbformat": 4,
  "nbformat_minor": 5
}