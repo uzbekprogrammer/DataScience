{
  "nbformat": 4,
  "nbformat_minor": 0,
  "metadata": {
    "colab": {
      "name": "2_data_type.ipynb",
      "private_outputs": true,
      "provenance": [],
      "authorship_tag": "ABX9TyMWC1f4EeYAMi63QHpsiH+4",
      "include_colab_link": true
    },
    "kernelspec": {
      "name": "python3",
      "display_name": "Python 3"
    },
    "language_info": {
      "name": "python"
    }
  },
  "cells": [
    {
      "cell_type": "markdown",
      "metadata": {
        "id": "view-in-github",
        "colab_type": "text"
      },
      "source": [
        "<a href=\"https://colab.research.google.com/github/uzbekprogrammer/DataScience/blob/main/2_data_type.ipynb\" target=\"_parent\"><img src=\"https://colab.research.google.com/assets/colab-badge.svg\" alt=\"Open In Colab\"/></a>"
      ]
    },
    {
      "cell_type": "code",
      "source": [
        "import numpy as np"
      ],
      "metadata": {
        "id": "cZxreMmTtziN"
      },
      "execution_count": null,
      "outputs": []
    },
    {
      "cell_type": "code",
      "execution_count": null,
      "metadata": {
        "id": "xTFiNGfatjeE"
      },
      "outputs": [],
      "source": [
        "arr1 = np.array([1,2,3], dtype = np.float64) # float64 malumotlar turiga ega massiv\n",
        "arr1"
      ]
    },
    {
      "cell_type": "code",
      "source": [
        "arr2 = np.array([1,2,3], dtype = np.int32) #bu int32 malumot turiga ega massiv\n",
        "arr2"
      ],
      "metadata": {
        "id": "q--QqANFt5bH"
      },
      "execution_count": null,
      "outputs": []
    },
    {
      "cell_type": "code",
      "source": [
        "arr1.dtype"
      ],
      "metadata": {
        "id": "g-Pu_sY0uOz4"
      },
      "execution_count": null,
      "outputs": []
    },
    {
      "cell_type": "code",
      "source": [
        "arr = np.array([1,2,3,4,5]) #int64\n",
        "arr.dtype"
      ],
      "metadata": {
        "id": "GhgRs4ncubrT"
      },
      "execution_count": null,
      "outputs": []
    },
    {
      "cell_type": "code",
      "source": [
        "float_arr = arr.astype(np.float64) #.astype boshqa malumot turiga otkizish\n",
        "float_arr.dtype"
      ],
      "metadata": {
        "id": "hIIbnmcxuqXS"
      },
      "execution_count": null,
      "outputs": []
    },
    {
      "cell_type": "code",
      "source": [
        "data = np.array([3.4,5.7,1.8,4])\n",
        "data"
      ],
      "metadata": {
        "id": "zKPB5DWju4VI"
      },
      "execution_count": null,
      "outputs": []
    },
    {
      "cell_type": "code",
      "source": [
        "int_data = data.astype(np.int64)\n",
        "int_data"
      ],
      "metadata": {
        "id": "92dUZ4UgvKkp"
      },
      "execution_count": null,
      "outputs": []
    },
    {
      "cell_type": "code",
      "source": [
        ""
      ],
      "metadata": {
        "id": "3rZa-2oUvWNT"
      },
      "execution_count": null,
      "outputs": []
    }
  ]
}