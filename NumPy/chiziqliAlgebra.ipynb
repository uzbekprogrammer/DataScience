{
  "nbformat": 4,
  "nbformat_minor": 0,
  "metadata": {
    "colab": {
      "private_outputs": true,
      "provenance": [],
      "authorship_tag": "ABX9TyN6bu7dpNwXjP+9KPHlLFkg",
      "include_colab_link": true
    },
    "kernelspec": {
      "name": "python3",
      "display_name": "Python 3"
    },
    "language_info": {
      "name": "python"
    }
  },
  "cells": [
    {
      "cell_type": "markdown",
      "metadata": {
        "id": "view-in-github",
        "colab_type": "text"
      },
      "source": [
        "<a href=\"https://colab.research.google.com/github/uzbekprogrammer/DataScience/blob/main/NumPy/chiziqliAlgebra.ipynb\" target=\"_parent\"><img src=\"https://colab.research.google.com/assets/colab-badge.svg\" alt=\"Open In Colab\"/></a>"
      ]
    },
    {
      "cell_type": "markdown",
      "source": [
        "# Data Science va Sun'iy Intellekt Praktikum\n",
        "\n",
        "## Ma'lumotlar tahlili. Numpy kutubxonasi\n",
        "### Chiziqli algebra"
      ],
      "metadata": {
        "id": "-0rNz8uNgfHb"
      }
    },
    {
      "cell_type": "code",
      "execution_count": null,
      "metadata": {
        "id": "FRkBHjWVZo-L"
      },
      "outputs": [],
      "source": [
        "import numpy as np"
      ]
    },
    {
      "cell_type": "code",
      "source": [
        "x = np.arange(1,7).reshape(2,3)\n",
        "x"
      ],
      "metadata": {
        "id": "svn-izZmg0Ox"
      },
      "execution_count": null,
      "outputs": []
    },
    {
      "cell_type": "code",
      "source": [
        "y = np.arange(7,13).reshape(2,3)\n",
        "y"
      ],
      "metadata": {
        "id": "qdPa8i6XhG8w"
      },
      "execution_count": null,
      "outputs": []
    },
    {
      "cell_type": "markdown",
      "source": [
        "##Matritsani matristaga qo'shish"
      ],
      "metadata": {
        "id": "_wkHgjUAixA4"
      }
    },
    {
      "cell_type": "code",
      "source": [
        "x+y"
      ],
      "metadata": {
        "id": "DhL_y9pKhaJN"
      },
      "execution_count": null,
      "outputs": []
    },
    {
      "cell_type": "code",
      "source": [
        "y-x"
      ],
      "metadata": {
        "id": "SW0hCJYlhfgV"
      },
      "execution_count": null,
      "outputs": []
    },
    {
      "cell_type": "code",
      "source": [
        "x"
      ],
      "metadata": {
        "id": "BvVuoKbshlQt"
      },
      "execution_count": null,
      "outputs": []
    },
    {
      "cell_type": "code",
      "source": [
        "y=y.T\n",
        "y"
      ],
      "metadata": {
        "id": "CEoyl6EWh68S"
      },
      "execution_count": null,
      "outputs": []
    },
    {
      "cell_type": "markdown",
      "source": [
        "##Matritsalarni ko'paytirish"
      ],
      "metadata": {
        "id": "2wmuAMM6i4aH"
      }
    },
    {
      "cell_type": "code",
      "source": [
        "np.dot(x,y)"
      ],
      "metadata": {
        "id": "CH15J7CEh7e5"
      },
      "execution_count": null,
      "outputs": []
    },
    {
      "cell_type": "code",
      "source": [
        "x.dot(y)"
      ],
      "metadata": {
        "id": "kgjut6JqienS"
      },
      "execution_count": null,
      "outputs": []
    },
    {
      "cell_type": "code",
      "source": [
        "y.dot(x)"
      ],
      "metadata": {
        "id": "neGr4bJYiqTp"
      },
      "execution_count": null,
      "outputs": []
    },
    {
      "cell_type": "code",
      "source": [
        "from numpy.linalg import inv"
      ],
      "metadata": {
        "id": "OxnqOdYNjGP8"
      },
      "execution_count": null,
      "outputs": []
    }
  ]
}