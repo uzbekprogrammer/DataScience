{
  "nbformat": 4,
  "nbformat_minor": 0,
  "metadata": {
    "colab": {
      "name": "1_Creating_arrays.ipynb",
      "private_outputs": true,
      "provenance": [],
      "authorship_tag": "ABX9TyPVQ711O6StHVUqeLqeQOJW",
      "include_colab_link": true
    },
    "kernelspec": {
      "name": "python3",
      "display_name": "Python 3"
    },
    "language_info": {
      "name": "python"
    }
  },
  "cells": [
    {
      "cell_type": "markdown",
      "metadata": {
        "id": "view-in-github",
        "colab_type": "text"
      },
      "source": [
        "<a href=\"https://colab.research.google.com/github/uzbekprogrammer/DataScience/blob/main/1_Creating_arrays.ipynb\" target=\"_parent\"><img src=\"https://colab.research.google.com/assets/colab-badge.svg\" alt=\"Open In Colab\"/></a>"
      ]
    },
    {
      "cell_type": "code",
      "execution_count": null,
      "metadata": {
        "id": "6fn92MIsfUR0"
      },
      "outputs": [],
      "source": [
        "import numpy as np"
      ]
    },
    {
      "cell_type": "code",
      "source": [
        "data1 = [4,5,6.4,4,2,1,3,4,6]\n",
        "array1 = np.array(data1)"
      ],
      "metadata": {
        "id": "Y096XP9xfc1O"
      },
      "execution_count": null,
      "outputs": []
    },
    {
      "cell_type": "code",
      "source": [
        "array1.ndim #array1 ning massiv olchamini chiqarib beradi"
      ],
      "metadata": {
        "id": "OSACWZJti3Jb"
      },
      "execution_count": null,
      "outputs": []
    },
    {
      "cell_type": "code",
      "source": [
        "data3 = [[1, 2, 3, 4], [5, 6, 7,8]] # list ichidagi list (nested list)\n",
        "arr3 = np.array(data3)"
      ],
      "metadata": {
        "id": "oy3ZgPtXi5wu"
      },
      "execution_count": null,
      "outputs": []
    },
    {
      "cell_type": "code",
      "source": [
        "arr3.ndim"
      ],
      "metadata": {
        "id": "wiTy63qskmTY"
      },
      "execution_count": null,
      "outputs": []
    },
    {
      "cell_type": "code",
      "source": [
        "arr3.shape #Qator va ustunlar soni"
      ],
      "metadata": {
        "id": "10RpD7z6kq1D"
      },
      "execution_count": null,
      "outputs": []
    },
    {
      "cell_type": "code",
      "source": [
        "arr3.size # arr3 ning elementlar soni"
      ],
      "metadata": {
        "id": "2tLFcyBSlj_5"
      },
      "execution_count": null,
      "outputs": []
    },
    {
      "cell_type": "code",
      "source": [
        "arr4 = np.zeros(shape = (2,4))\n",
        "arr4"
      ],
      "metadata": {
        "id": "owL4fgfGloZB"
      },
      "execution_count": null,
      "outputs": []
    },
    {
      "cell_type": "code",
      "source": [
        "arr5 = np.ones((2,4),dtype='int')\n",
        "arr5"
      ],
      "metadata": {
        "id": "khyW7Yrwo8Ys"
      },
      "execution_count": null,
      "outputs": []
    },
    {
      "cell_type": "code",
      "source": [
        "arr6 = np.arange(4,20,2) # 4 dan 20 gacha sonlarni massiv qiladi\n",
        "arr6"
      ],
      "metadata": {
        "id": "qCLxG6b5pPNf"
      },
      "execution_count": null,
      "outputs": []
    },
    {
      "cell_type": "code",
      "source": [
        "arr7 = np.arange(20) \n",
        "arr7"
      ],
      "metadata": {
        "id": "Uxqw3R5DpjtR"
      },
      "execution_count": null,
      "outputs": []
    },
    {
      "cell_type": "code",
      "source": [
        ""
      ],
      "metadata": {
        "id": "OcPq0VyDp2zH"
      },
      "execution_count": null,
      "outputs": []
    }
  ]
}