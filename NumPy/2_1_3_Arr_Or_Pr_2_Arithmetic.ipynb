{
  "nbformat": 4,
  "nbformat_minor": 0,
  "metadata": {
    "colab": {
      "private_outputs": true,
      "provenance": [],
      "authorship_tag": "ABX9TyMjzEML+R3fGYcOLixDy42u",
      "include_colab_link": true
    },
    "kernelspec": {
      "name": "python3",
      "display_name": "Python 3"
    },
    "language_info": {
      "name": "python"
    }
  },
  "cells": [
    {
      "cell_type": "markdown",
      "metadata": {
        "id": "view-in-github",
        "colab_type": "text"
      },
      "source": [
        "<a href=\"https://colab.research.google.com/github/uzbekprogrammer/DataScience/blob/main/2_1_3_Arr_Or_Pr_2_Arithmetic.ipynb\" target=\"_parent\"><img src=\"https://colab.research.google.com/assets/colab-badge.svg\" alt=\"Open In Colab\"/></a>"
      ]
    },
    {
      "cell_type": "markdown",
      "source": [
        "# Data Science va Sun'iy Intellekt Praktikum\n",
        "\n",
        "## Ma'lumotlar tahlili.\n",
        "## 2.1. NumPy kutubxonasi bilan ishlash"
      ],
      "metadata": {
        "id": "9vAAirFX2K1n"
      }
    },
    {
      "cell_type": "code",
      "execution_count": null,
      "metadata": {
        "id": "9c6gJMzdBZWI"
      },
      "outputs": [],
      "source": [
        "import numpy as np"
      ]
    },
    {
      "cell_type": "markdown",
      "source": [
        "### 2.1.3. Massivga yo'naltirilgan dasturlash"
      ],
      "metadata": {
        "id": "X0A4DcCl2PM2"
      }
    },
    {
      "cell_type": "markdown",
      "source": [
        "### Arifmetik amallar"
      ],
      "metadata": {
        "id": "AMogT_gV2Sgi"
      }
    },
    {
      "cell_type": "markdown",
      "source": [
        "### Ko'paytirish, bo'lish, qo'shish, ayirish va h.k amallar"
      ],
      "metadata": {
        "id": "KBqCRnNZ2U30"
      }
    },
    {
      "cell_type": "code",
      "source": [
        "arr1 = np.arange(6).reshape(2,3) # 0-6 gacha bolgan elementlardan tashkiil topgan array\n",
        "arr2 = np.arange(6,12).reshape(2,3) # 6-12 bolgan elementlardan tashkil topgan array\n",
        "arr1"
      ],
      "metadata": {
        "id": "HxCW1qVDBxIR"
      },
      "execution_count": null,
      "outputs": []
    },
    {
      "cell_type": "code",
      "source": [
        "arr2"
      ],
      "metadata": {
        "id": "Ff2dDhCFCTjQ"
      },
      "execution_count": null,
      "outputs": []
    },
    {
      "cell_type": "code",
      "source": [
        "arr1*arr2"
      ],
      "metadata": {
        "id": "yreJq6OuCdQo"
      },
      "execution_count": null,
      "outputs": []
    },
    {
      "cell_type": "markdown",
      "source": [],
      "metadata": {
        "id": "M7ltQ8MFCraX"
      }
    },
    {
      "cell_type": "code",
      "source": [
        "arr2/arr1"
      ],
      "metadata": {
        "id": "C_C8Nu7fDCII"
      },
      "execution_count": null,
      "outputs": []
    },
    {
      "cell_type": "code",
      "source": [
        "arr1+arr2"
      ],
      "metadata": {
        "id": "sn2rUdurDHvM"
      },
      "execution_count": null,
      "outputs": []
    },
    {
      "cell_type": "code",
      "source": [
        "# ayirish\n",
        "arr2-arr1"
      ],
      "metadata": {
        "id": "oXdDAdlKDPlE"
      },
      "execution_count": null,
      "outputs": []
    },
    {
      "cell_type": "code",
      "source": [
        "# Kvadratga oshirish\n",
        "arr1**2"
      ],
      "metadata": {
        "id": "x2axIZpoDZJh"
      },
      "execution_count": null,
      "outputs": []
    },
    {
      "cell_type": "code",
      "source": [],
      "metadata": {
        "id": "VaOhKSfZDiRq"
      },
      "execution_count": null,
      "outputs": []
    }
  ]
}