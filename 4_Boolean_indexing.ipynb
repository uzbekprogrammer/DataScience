{
  "nbformat": 4,
  "nbformat_minor": 0,
  "metadata": {
    "colab": {
      "name": "4_Boolean_indexing.ipynb",
      "private_outputs": true,
      "provenance": [],
      "authorship_tag": "ABX9TyORA1tsPVQzpqyMhWTocHe1",
      "include_colab_link": true
    },
    "kernelspec": {
      "name": "python3",
      "display_name": "Python 3"
    },
    "language_info": {
      "name": "python"
    }
  },
  "cells": [
    {
      "cell_type": "markdown",
      "metadata": {
        "id": "view-in-github",
        "colab_type": "text"
      },
      "source": [
        "<a href=\"https://colab.research.google.com/github/uzbekprogrammer/DataScience/blob/main/4_Boolean_indexing.ipynb\" target=\"_parent\"><img src=\"https://colab.research.google.com/assets/colab-badge.svg\" alt=\"Open In Colab\"/></a>"
      ]
    },
    {
      "cell_type": "code",
      "source": [
        "import numpy as np"
      ],
      "metadata": {
        "id": "OwRw3icqkztv"
      },
      "execution_count": null,
      "outputs": []
    },
    {
      "cell_type": "code",
      "execution_count": null,
      "metadata": {
        "id": "aB5UhBRLkl60"
      },
      "outputs": [],
      "source": [
        "# Ismlar\n",
        "names = np.array(['Hasan', 'Husan', 'Mirzabek', 'Elyor', 'Hasan', 'Javohir', 'Elyor'])\n",
        "names"
      ]
    },
    {
      "cell_type": "code",
      "source": [
        "data = np.random.randn(7,4)\n",
        "data"
      ],
      "metadata": {
        "id": "Gkirr6b_k6BG"
      },
      "execution_count": null,
      "outputs": []
    },
    {
      "cell_type": "code",
      "source": [
        "names == 'Hasan'"
      ],
      "metadata": {
        "id": "81VrXveQmUzd"
      },
      "execution_count": null,
      "outputs": []
    },
    {
      "cell_type": "code",
      "source": [
        "data[names == 'Hasan'] #Hasanga tegishli malumotlarni ajratish"
      ],
      "metadata": {
        "id": "xuU7Lra4njg2"
      },
      "execution_count": null,
      "outputs": []
    },
    {
      "cell_type": "code",
      "source": [
        "data[names == \"Elyor\"] # Elyorga tegishli malumotlarni ajratish"
      ],
      "metadata": {
        "id": "da-P0aoYoQKy"
      },
      "execution_count": null,
      "outputs": []
    },
    {
      "cell_type": "code",
      "source": [
        "data[names == \"Hasan\", 2:] #Hasanga tegishli oxirgi 2ta malumotlarni ajratib olish"
      ],
      "metadata": {
        "id": "iUCSL3SkoaDd"
      },
      "execution_count": null,
      "outputs": []
    },
    {
      "cell_type": "code",
      "source": [
        "data[names != \"Hasan\"] # Hasandan tashqari hammani malumotlarini chiqaradi"
      ],
      "metadata": {
        "id": "2vwbhnrKoq63"
      },
      "execution_count": null,
      "outputs": []
    },
    {
      "cell_type": "code",
      "source": [
        "data[~(names == \"Hasan\")] # Hasandan tashqari hammani malumotlarini chiqaradi"
      ],
      "metadata": {
        "id": "f5NMvpscpGoH"
      },
      "execution_count": null,
      "outputs": []
    },
    {
      "cell_type": "code",
      "source": [
        ""
      ],
      "metadata": {
        "id": "2-SxdMytqGaw"
      },
      "execution_count": null,
      "outputs": []
    },
    {
      "cell_type": "code",
      "source": [
        "print(names)\n",
        "print(data)"
      ],
      "metadata": {
        "id": "J8JUjbJjqe7O"
      },
      "execution_count": null,
      "outputs": []
    },
    {
      "cell_type": "code",
      "source": [
        "mask = (names == \"Hasan\") | (names == \"Husan\") # yoki or \" | \"\n",
        "mask"
      ],
      "metadata": {
        "id": "OGOC4C0Zq5Ov"
      },
      "execution_count": null,
      "outputs": []
    },
    {
      "cell_type": "code",
      "source": [
        "data[mask] # Hasan va Husanga tegishli malumotlarni ajratib olish"
      ],
      "metadata": {
        "id": "sCedPQdcrbn4"
      },
      "execution_count": null,
      "outputs": []
    },
    {
      "cell_type": "code",
      "source": [
        "data"
      ],
      "metadata": {
        "id": "-bcEWId1r42l"
      },
      "execution_count": null,
      "outputs": []
    },
    {
      "cell_type": "code",
      "source": [
        "data[data<0] = 0\n",
        "data"
      ],
      "metadata": {
        "id": "vnCnd-gYunIu"
      },
      "execution_count": null,
      "outputs": []
    },
    {
      "cell_type": "code",
      "source": [
        ""
      ],
      "metadata": {
        "id": "gwCVfJ4wwJY1"
      },
      "execution_count": null,
      "outputs": []
    }
  ]
}