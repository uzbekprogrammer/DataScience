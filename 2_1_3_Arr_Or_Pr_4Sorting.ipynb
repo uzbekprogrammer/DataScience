{
  "nbformat": 4,
  "nbformat_minor": 0,
  "metadata": {
    "colab": {
      "name": "2.1.3.Arr_Or_Pr#4Sorting.ipynb",
      "private_outputs": true,
      "provenance": [],
      "authorship_tag": "ABX9TyNkQU8u0Z0EtZRuP5vh2fRw",
      "include_colab_link": true
    },
    "kernelspec": {
      "name": "python3",
      "display_name": "Python 3"
    },
    "language_info": {
      "name": "python"
    }
  },
  "cells": [
    {
      "cell_type": "markdown",
      "metadata": {
        "id": "view-in-github",
        "colab_type": "text"
      },
      "source": [
        "<a href=\"https://colab.research.google.com/github/uzbekprogrammer/DataScience/blob/main/2_1_3_Arr_Or_Pr_4Sorting.ipynb\" target=\"_parent\"><img src=\"https://colab.research.google.com/assets/colab-badge.svg\" alt=\"Open In Colab\"/></a>"
      ]
    },
    {
      "cell_type": "code",
      "execution_count": null,
      "metadata": {
        "id": "HxCvRRiqPfgu"
      },
      "outputs": [],
      "source": [
        "import numpy as np"
      ]
    },
    {
      "cell_type": "markdown",
      "source": [
        "### Tartiblash (`Sorting`)"
      ],
      "metadata": {
        "id": "Pr7mxg2gPpUt"
      }
    },
    {
      "cell_type": "code",
      "source": [
        "# data \n",
        "arr = np.random.rand(4)\n",
        "arr"
      ],
      "metadata": {
        "id": "zIwhDDf0Pl9N"
      },
      "execution_count": null,
      "outputs": []
    },
    {
      "cell_type": "markdown",
      "source": [
        "### `sort` funksiya"
      ],
      "metadata": {
        "id": "zVhNohHyP13u"
      }
    },
    {
      "cell_type": "code",
      "source": [
        "sorted_arr = np.sort(arr)\n",
        "sorted_arr"
      ],
      "metadata": {
        "id": "qLu1UYQ1PzTR"
      },
      "execution_count": null,
      "outputs": []
    },
    {
      "cell_type": "code",
      "source": [
        "# 2 - usul \n",
        "arr.sort() #arr ga tartiblab yuklaydi\n",
        "arr"
      ],
      "metadata": {
        "id": "uE1aWvjDQCWU"
      },
      "execution_count": null,
      "outputs": []
    },
    {
      "cell_type": "code",
      "source": [
        "# teskari tartiblash\n",
        "rev_arr = -np.sort(-arr) # teskari tartibdagi array\n",
        "rev_arr"
      ],
      "metadata": {
        "id": "h0jQMmYdQXWu"
      },
      "execution_count": null,
      "outputs": []
    },
    {
      "cell_type": "code",
      "source": [
        "arr2d = np.random.randn(2,4) #(2,4) random massiv\n",
        "arr2d"
      ],
      "metadata": {
        "id": "xYE6f3u1Qhnd"
      },
      "execution_count": null,
      "outputs": []
    },
    {
      "cell_type": "code",
      "source": [
        "\n"
      ],
      "metadata": {
        "id": "e6wZl4AoQpFe"
      },
      "execution_count": null,
      "outputs": []
    }
  ]
}