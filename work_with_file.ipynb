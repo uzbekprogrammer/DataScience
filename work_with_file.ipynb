{
  "nbformat": 4,
  "nbformat_minor": 0,
  "metadata": {
    "colab": {
      "private_outputs": true,
      "provenance": [],
      "authorship_tag": "ABX9TyOyfFkNXEB6VFvdWf0qzaud",
      "include_colab_link": true
    },
    "kernelspec": {
      "name": "python3",
      "display_name": "Python 3"
    },
    "language_info": {
      "name": "python"
    }
  },
  "cells": [
    {
      "cell_type": "markdown",
      "metadata": {
        "id": "view-in-github",
        "colab_type": "text"
      },
      "source": [
        "<a href=\"https://colab.research.google.com/github/uzbekprogrammer/DataScience/blob/main/work_with_file.ipynb\" target=\"_parent\"><img src=\"https://colab.research.google.com/assets/colab-badge.svg\" alt=\"Open In Colab\"/></a>"
      ]
    },
    {
      "cell_type": "markdown",
      "source": [
        "# Data Science va Sun'iy Intellekt Praktikum\n",
        "\n",
        "## Ma'lumotlar tahlili.\n",
        "### Fayllar bilan ishlash"
      ],
      "metadata": {
        "id": "KuKofyu0VkO1"
      }
    },
    {
      "cell_type": "code",
      "execution_count": null,
      "metadata": {
        "id": "zOaaSCIpVXyF"
      },
      "outputs": [],
      "source": [
        "import numpy as np"
      ]
    },
    {
      "cell_type": "code",
      "source": [
        "arr = np.arange(10)\n",
        "arr"
      ],
      "metadata": {
        "id": "s9XScSpuV3ts"
      },
      "execution_count": null,
      "outputs": []
    },
    {
      "cell_type": "code",
      "source": [
        "np.save('data', arr)"
      ],
      "metadata": {
        "id": "73DNgA9TWsSp"
      },
      "execution_count": null,
      "outputs": []
    },
    {
      "cell_type": "code",
      "source": [
        "arr2 = np.load('data.npy')"
      ],
      "metadata": {
        "id": "IWaMErbBXHUh"
      },
      "execution_count": null,
      "outputs": []
    },
    {
      "cell_type": "code",
      "source": [
        "arr2\n"
      ],
      "metadata": {
        "id": "Ghb4xcCxXVCL"
      },
      "execution_count": null,
      "outputs": []
    },
    {
      "cell_type": "code",
      "source": [
        "arr2 = np.arange(20)\n",
        "arr2"
      ],
      "metadata": {
        "id": "6Dd2B3dEXZJn"
      },
      "execution_count": null,
      "outputs": []
    },
    {
      "cell_type": "code",
      "source": [
        "np.savez('arrays', a=arr, b=arr2)"
      ],
      "metadata": {
        "id": "6Lgh2HCfXd-v"
      },
      "execution_count": null,
      "outputs": []
    },
    {
      "cell_type": "code",
      "source": [
        "arrays = np.load('arrays.npz')\n",
        "print(arrays['a'])\n",
        "print(arrays['b'])"
      ],
      "metadata": {
        "id": "Y6jJC82xYCee"
      },
      "execution_count": null,
      "outputs": []
    },
    {
      "cell_type": "code",
      "source": [
        "np.savez_compressed('arrays_comp', a=arr, b=arr2)"
      ],
      "metadata": {
        "id": "nCAW-tgMYsoI"
      },
      "execution_count": null,
      "outputs": []
    }
  ]
}